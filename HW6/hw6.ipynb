{
 "cells": [
  {
   "cell_type": "markdown",
   "metadata": {},
   "source": [
    "# HW6"
   ]
  },
  {
   "cell_type": "code",
   "execution_count": 30,
   "metadata": {},
   "outputs": [],
   "source": [
    "# Common imports\n",
    "import numpy as np\n",
    "import pandas as pd\n",
    "from IPython.display import display\n",
    "from sklearn.model_selection import GridSearchCV\n",
    "from sklearn.preprocessing import StandardScaler\n",
    "from sklearn.neural_network import MLPClassifier\n",
    "from sklearn.preprocessing import OneHotEncoder,StandardScaler\n",
    "from sklearn.pipeline import make_pipeline\n",
    "from sklearn.compose import make_column_transformer\n",
    "from sklearn.impute import SimpleImputer\n",
    "from sklearn.model_selection import train_test_split\n",
    "import sklearn.metrics as met\n",
    "from IPython.core.interactiveshell import InteractiveShell\n",
    "InteractiveShell.ast_node_interactivity = \"all\""
   ]
  },
  {
   "cell_type": "markdown",
   "metadata": {},
   "source": [
    "The LendingClub is a peer-to-peer lending company that directly connects borrowers and \n",
    "potential lenders/investors. In this homework, you will build classification models to predict \n",
    "whether or not a loan provided by LendingClub is likely to default. \n",
    " \n",
    "In this homework you will use data from the LendingClub to predict whether a loan will be paid \n",
    "off in full or the loan will be charged off and possibly go into default."
   ]
  },
  {
   "cell_type": "markdown",
   "metadata": {},
   "source": [
    "# Load the Lending Club dataset \n",
    " \n",
    "Load the dataset into a data frame named loans."
   ]
  },
  {
   "cell_type": "code",
   "execution_count": 31,
   "metadata": {},
   "outputs": [
    {
     "name": "stderr",
     "output_type": "stream",
     "text": [
      "C:\\Users\\anson\\AppData\\Local\\Temp\\ipykernel_28972\\3382603300.py:1: DtypeWarning: Columns (19,47) have mixed types. Specify dtype option on import or set low_memory=False.\n",
      "  loans = pd.read_csv(\"lending-club-data.csv\")\n"
     ]
    },
    {
     "data": {
      "text/html": [
       "<div>\n",
       "<style scoped>\n",
       "    .dataframe tbody tr th:only-of-type {\n",
       "        vertical-align: middle;\n",
       "    }\n",
       "\n",
       "    .dataframe tbody tr th {\n",
       "        vertical-align: top;\n",
       "    }\n",
       "\n",
       "    .dataframe thead th {\n",
       "        text-align: right;\n",
       "    }\n",
       "</style>\n",
       "<table border=\"1\" class=\"dataframe\">\n",
       "  <thead>\n",
       "    <tr style=\"text-align: right;\">\n",
       "      <th></th>\n",
       "      <th>id</th>\n",
       "      <th>member_id</th>\n",
       "      <th>loan_amnt</th>\n",
       "      <th>funded_amnt</th>\n",
       "      <th>funded_amnt_inv</th>\n",
       "      <th>term</th>\n",
       "      <th>int_rate</th>\n",
       "      <th>installment</th>\n",
       "      <th>grade</th>\n",
       "      <th>sub_grade</th>\n",
       "      <th>...</th>\n",
       "      <th>sub_grade_num</th>\n",
       "      <th>delinq_2yrs_zero</th>\n",
       "      <th>pub_rec_zero</th>\n",
       "      <th>collections_12_mths_zero</th>\n",
       "      <th>short_emp</th>\n",
       "      <th>payment_inc_ratio</th>\n",
       "      <th>final_d</th>\n",
       "      <th>last_delinq_none</th>\n",
       "      <th>last_record_none</th>\n",
       "      <th>last_major_derog_none</th>\n",
       "    </tr>\n",
       "  </thead>\n",
       "  <tbody>\n",
       "    <tr>\n",
       "      <th>0</th>\n",
       "      <td>1077501</td>\n",
       "      <td>1296599</td>\n",
       "      <td>5000</td>\n",
       "      <td>5000</td>\n",
       "      <td>4975</td>\n",
       "      <td>36 months</td>\n",
       "      <td>10.65</td>\n",
       "      <td>162.87</td>\n",
       "      <td>B</td>\n",
       "      <td>B2</td>\n",
       "      <td>...</td>\n",
       "      <td>0.4</td>\n",
       "      <td>1.0</td>\n",
       "      <td>1.0</td>\n",
       "      <td>1.0</td>\n",
       "      <td>0</td>\n",
       "      <td>8.14350</td>\n",
       "      <td>20141201T000000</td>\n",
       "      <td>1</td>\n",
       "      <td>1</td>\n",
       "      <td>1</td>\n",
       "    </tr>\n",
       "    <tr>\n",
       "      <th>1</th>\n",
       "      <td>1077430</td>\n",
       "      <td>1314167</td>\n",
       "      <td>2500</td>\n",
       "      <td>2500</td>\n",
       "      <td>2500</td>\n",
       "      <td>60 months</td>\n",
       "      <td>15.27</td>\n",
       "      <td>59.83</td>\n",
       "      <td>C</td>\n",
       "      <td>C4</td>\n",
       "      <td>...</td>\n",
       "      <td>0.8</td>\n",
       "      <td>1.0</td>\n",
       "      <td>1.0</td>\n",
       "      <td>1.0</td>\n",
       "      <td>1</td>\n",
       "      <td>2.39320</td>\n",
       "      <td>20161201T000000</td>\n",
       "      <td>1</td>\n",
       "      <td>1</td>\n",
       "      <td>1</td>\n",
       "    </tr>\n",
       "    <tr>\n",
       "      <th>2</th>\n",
       "      <td>1077175</td>\n",
       "      <td>1313524</td>\n",
       "      <td>2400</td>\n",
       "      <td>2400</td>\n",
       "      <td>2400</td>\n",
       "      <td>36 months</td>\n",
       "      <td>15.96</td>\n",
       "      <td>84.33</td>\n",
       "      <td>C</td>\n",
       "      <td>C5</td>\n",
       "      <td>...</td>\n",
       "      <td>1.0</td>\n",
       "      <td>1.0</td>\n",
       "      <td>1.0</td>\n",
       "      <td>1.0</td>\n",
       "      <td>0</td>\n",
       "      <td>8.25955</td>\n",
       "      <td>20141201T000000</td>\n",
       "      <td>1</td>\n",
       "      <td>1</td>\n",
       "      <td>1</td>\n",
       "    </tr>\n",
       "    <tr>\n",
       "      <th>3</th>\n",
       "      <td>1076863</td>\n",
       "      <td>1277178</td>\n",
       "      <td>10000</td>\n",
       "      <td>10000</td>\n",
       "      <td>10000</td>\n",
       "      <td>36 months</td>\n",
       "      <td>13.49</td>\n",
       "      <td>339.31</td>\n",
       "      <td>C</td>\n",
       "      <td>C1</td>\n",
       "      <td>...</td>\n",
       "      <td>0.2</td>\n",
       "      <td>1.0</td>\n",
       "      <td>1.0</td>\n",
       "      <td>1.0</td>\n",
       "      <td>0</td>\n",
       "      <td>8.27585</td>\n",
       "      <td>20141201T000000</td>\n",
       "      <td>0</td>\n",
       "      <td>1</td>\n",
       "      <td>1</td>\n",
       "    </tr>\n",
       "    <tr>\n",
       "      <th>4</th>\n",
       "      <td>1075269</td>\n",
       "      <td>1311441</td>\n",
       "      <td>5000</td>\n",
       "      <td>5000</td>\n",
       "      <td>5000</td>\n",
       "      <td>36 months</td>\n",
       "      <td>7.90</td>\n",
       "      <td>156.46</td>\n",
       "      <td>A</td>\n",
       "      <td>A4</td>\n",
       "      <td>...</td>\n",
       "      <td>0.8</td>\n",
       "      <td>1.0</td>\n",
       "      <td>1.0</td>\n",
       "      <td>1.0</td>\n",
       "      <td>0</td>\n",
       "      <td>5.21533</td>\n",
       "      <td>20141201T000000</td>\n",
       "      <td>1</td>\n",
       "      <td>1</td>\n",
       "      <td>1</td>\n",
       "    </tr>\n",
       "  </tbody>\n",
       "</table>\n",
       "<p>5 rows × 68 columns</p>\n",
       "</div>"
      ],
      "text/plain": [
       "        id  member_id  loan_amnt  funded_amnt  funded_amnt_inv        term  \\\n",
       "0  1077501    1296599       5000         5000             4975   36 months   \n",
       "1  1077430    1314167       2500         2500             2500   60 months   \n",
       "2  1077175    1313524       2400         2400             2400   36 months   \n",
       "3  1076863    1277178      10000        10000            10000   36 months   \n",
       "4  1075269    1311441       5000         5000             5000   36 months   \n",
       "\n",
       "   int_rate  installment grade sub_grade  ... sub_grade_num delinq_2yrs_zero  \\\n",
       "0     10.65       162.87     B        B2  ...           0.4              1.0   \n",
       "1     15.27        59.83     C        C4  ...           0.8              1.0   \n",
       "2     15.96        84.33     C        C5  ...           1.0              1.0   \n",
       "3     13.49       339.31     C        C1  ...           0.2              1.0   \n",
       "4      7.90       156.46     A        A4  ...           0.8              1.0   \n",
       "\n",
       "  pub_rec_zero  collections_12_mths_zero short_emp payment_inc_ratio  \\\n",
       "0          1.0                       1.0         0           8.14350   \n",
       "1          1.0                       1.0         1           2.39320   \n",
       "2          1.0                       1.0         0           8.25955   \n",
       "3          1.0                       1.0         0           8.27585   \n",
       "4          1.0                       1.0         0           5.21533   \n",
       "\n",
       "           final_d last_delinq_none last_record_none last_major_derog_none  \n",
       "0  20141201T000000                1                1                     1  \n",
       "1  20161201T000000                1                1                     1  \n",
       "2  20141201T000000                1                1                     1  \n",
       "3  20141201T000000                0                1                     1  \n",
       "4  20141201T000000                1                1                     1  \n",
       "\n",
       "[5 rows x 68 columns]"
      ]
     },
     "execution_count": 31,
     "metadata": {},
     "output_type": "execute_result"
    }
   ],
   "source": [
    "loans = pd.read_csv(\"lending-club-data.csv\")\n",
    "loans.head()"
   ]
  },
  {
   "cell_type": "markdown",
   "metadata": {},
   "source": [
    "### Exploring features \n",
    " \n",
    "Let's quickly explore what the dataset looks like. First, print out the column names to see what \n",
    "features we have in this dataset. Here, we should see that we have some feature columns that \n",
    "have to do with grade of the loan, annual income, home ownership status, etc."
   ]
  },
  {
   "cell_type": "code",
   "execution_count": 32,
   "metadata": {},
   "outputs": [
    {
     "name": "stdout",
     "output_type": "stream",
     "text": [
      "<class 'pandas.core.frame.DataFrame'>\n",
      "RangeIndex: 122607 entries, 0 to 122606\n",
      "Data columns (total 68 columns):\n",
      " #   Column                       Non-Null Count   Dtype  \n",
      "---  ------                       --------------   -----  \n",
      " 0   id                           122607 non-null  int64  \n",
      " 1   member_id                    122607 non-null  int64  \n",
      " 2   loan_amnt                    122607 non-null  int64  \n",
      " 3   funded_amnt                  122607 non-null  int64  \n",
      " 4   funded_amnt_inv              122607 non-null  int64  \n",
      " 5   term                         122607 non-null  object \n",
      " 6   int_rate                     122607 non-null  float64\n",
      " 7   installment                  122607 non-null  float64\n",
      " 8   grade                        122607 non-null  object \n",
      " 9   sub_grade                    122607 non-null  object \n",
      " 10  emp_title                    115767 non-null  object \n",
      " 11  emp_length                   118516 non-null  object \n",
      " 12  home_ownership               122607 non-null  object \n",
      " 13  annual_inc                   122603 non-null  float64\n",
      " 14  is_inc_v                     122607 non-null  object \n",
      " 15  issue_d                      122607 non-null  object \n",
      " 16  loan_status                  122607 non-null  object \n",
      " 17  pymnt_plan                   122607 non-null  object \n",
      " 18  url                          122607 non-null  object \n",
      " 19  desc                         60703 non-null   object \n",
      " 20  purpose                      122607 non-null  object \n",
      " 21  title                        122596 non-null  object \n",
      " 22  zip_code                     122607 non-null  object \n",
      " 23  addr_state                   122607 non-null  object \n",
      " 24  dti                          122607 non-null  float64\n",
      " 25  delinq_2yrs                  122578 non-null  float64\n",
      " 26  earliest_cr_line             122578 non-null  object \n",
      " 27  inq_last_6mths               122578 non-null  float64\n",
      " 28  mths_since_last_delinq       50500 non-null   float64\n",
      " 29  mths_since_last_record       12531 non-null   float64\n",
      " 30  open_acc                     122578 non-null  float64\n",
      " 31  pub_rec                      122578 non-null  float64\n",
      " 32  revol_bal                    122607 non-null  int64  \n",
      " 33  revol_util                   122607 non-null  float64\n",
      " 34  total_acc                    122578 non-null  float64\n",
      " 35  initial_list_status          122607 non-null  object \n",
      " 36  out_prncp                    122607 non-null  float64\n",
      " 37  out_prncp_inv                122607 non-null  float64\n",
      " 38  total_pymnt                  122607 non-null  float64\n",
      " 39  total_pymnt_inv              122607 non-null  float64\n",
      " 40  total_rec_prncp              122607 non-null  float64\n",
      " 41  total_rec_int                122607 non-null  float64\n",
      " 42  total_rec_late_fee           122607 non-null  float64\n",
      " 43  recoveries                   122607 non-null  float64\n",
      " 44  collection_recovery_fee      122607 non-null  float64\n",
      " 45  last_pymnt_d                 122271 non-null  object \n",
      " 46  last_pymnt_amnt              122607 non-null  float64\n",
      " 47  next_pymnt_d                 2907 non-null    object \n",
      " 48  last_credit_pull_d           122601 non-null  object \n",
      " 49  collections_12_mths_ex_med   122462 non-null  float64\n",
      " 50  mths_since_last_major_derog  15460 non-null   float64\n",
      " 51  policy_code                  122607 non-null  int64  \n",
      " 52  not_compliant                122607 non-null  int64  \n",
      " 53  status                       122607 non-null  object \n",
      " 54  inactive_loans               122607 non-null  int64  \n",
      " 55  bad_loans                    122607 non-null  int64  \n",
      " 56  emp_length_num               122607 non-null  int64  \n",
      " 57  grade_num                    122607 non-null  int64  \n",
      " 58  sub_grade_num                122607 non-null  float64\n",
      " 59  delinq_2yrs_zero             122578 non-null  float64\n",
      " 60  pub_rec_zero                 122578 non-null  float64\n",
      " 61  collections_12_mths_zero     122462 non-null  float64\n",
      " 62  short_emp                    122607 non-null  int64  \n",
      " 63  payment_inc_ratio            122603 non-null  float64\n",
      " 64  final_d                      122607 non-null  object \n",
      " 65  last_delinq_none             122607 non-null  int64  \n",
      " 66  last_record_none             122607 non-null  int64  \n",
      " 67  last_major_derog_none        122607 non-null  int64  \n",
      "dtypes: float64(29), int64(16), object(23)\n",
      "memory usage: 63.6+ MB\n"
     ]
    }
   ],
   "source": [
    "loans.info()"
   ]
  },
  {
   "cell_type": "markdown",
   "metadata": {},
   "source": [
    "Features for the classification algorithm \n",
    " \n",
    "In this assignment, we will be using a subset of features (categorical and numeric). The features \n",
    "we will be using are described below. Extract these feature columns and target column from the \n",
    "dataset. We will only use these features. \n",
    " \n",
    "features = [\n",
    "            \n",
    "            'grade',                     # grade of the loan \n",
    "\n",
    "            'sub_grade',                 # sub-grade of the loan \n",
    "\n",
    "            'short_emp',                 # one year or less of employment \n",
    "\n",
    "            'emp_length_num',            # number of years of employment \n",
    "\n",
    "            'home_ownership',            # home_ownership status: own, mortgage or rent \n",
    "\n",
    "            'dti',                       # debt to income ratio \n",
    "\n",
    "            'purpose',                   # the purpose of the loan \n",
    "\n",
    "            'term',                      # the term of the loan \n",
    "\n",
    "            'last_delinq_none',          # has borrower had a delinquincy \n",
    "\n",
    "            'last_major_derog_none',     # has borrower had 90 day or worse rating \n",
    "\n",
    "            'revol_util',                # percent of available credit being used \n",
    "\n",
    "            'total_rec_late_fee',        # total late fees received to day \n",
    "           ] \n",
    " \n",
    "You may skip observations with missing values in these features."
   ]
  },
  {
   "cell_type": "code",
   "execution_count": 33,
   "metadata": {},
   "outputs": [
    {
     "name": "stdout",
     "output_type": "stream",
     "text": [
      "<class 'pandas.core.frame.DataFrame'>\n",
      "RangeIndex: 122607 entries, 0 to 122606\n",
      "Data columns (total 13 columns):\n",
      " #   Column                 Non-Null Count   Dtype  \n",
      "---  ------                 --------------   -----  \n",
      " 0   grade                  122607 non-null  object \n",
      " 1   sub_grade              122607 non-null  object \n",
      " 2   short_emp              122607 non-null  int64  \n",
      " 3   emp_length_num         122607 non-null  int64  \n",
      " 4   home_ownership         122607 non-null  object \n",
      " 5   dti                    122607 non-null  float64\n",
      " 6   purpose                122607 non-null  object \n",
      " 7   term                   122607 non-null  object \n",
      " 8   last_delinq_none       122607 non-null  int64  \n",
      " 9   last_major_derog_none  122607 non-null  int64  \n",
      " 10  revol_util             122607 non-null  float64\n",
      " 11  total_rec_late_fee     122607 non-null  float64\n",
      " 12  bad_loans              122607 non-null  int64  \n",
      "dtypes: float64(3), int64(5), object(5)\n",
      "memory usage: 12.2+ MB\n"
     ]
    }
   ],
   "source": [
    "data = loans.copy()\n",
    "data = data[[\"grade\",\"sub_grade\",\"short_emp\",\"emp_length_num\",\"home_ownership\",\"dti\",\"purpose\",\n",
    "             \"term\",\"last_delinq_none\",\"last_major_derog_none\",\"revol_util\",\"total_rec_late_fee\",\n",
    "             \"bad_loans\"]]\n",
    "data.info()\n"
   ]
  },
  {
   "cell_type": "code",
   "execution_count": 34,
   "metadata": {},
   "outputs": [
    {
     "data": {
      "text/plain": [
       "grade                    0\n",
       "sub_grade                0\n",
       "short_emp                0\n",
       "emp_length_num           0\n",
       "home_ownership           0\n",
       "dti                      0\n",
       "purpose                  0\n",
       "term                     0\n",
       "last_delinq_none         0\n",
       "last_major_derog_none    0\n",
       "revol_util               0\n",
       "total_rec_late_fee       0\n",
       "bad_loans                0\n",
       "dtype: int64"
      ]
     },
     "execution_count": 34,
     "metadata": {},
     "output_type": "execute_result"
    }
   ],
   "source": [
    "data.isna().sum()"
   ]
  },
  {
   "cell_type": "markdown",
   "metadata": {},
   "source": [
    "### Exploring the target column \n",
    " \n",
    "The target column (label column) of the dataset that we are interested in is called bad_loans. In \n",
    "this column 1 means a risky (bad) loan 0 means a safe loan. "
   ]
  },
  {
   "cell_type": "code",
   "execution_count": 35,
   "metadata": {},
   "outputs": [
    {
     "data": {
      "text/plain": [
       "0         0\n",
       "1         1\n",
       "2         0\n",
       "3         0\n",
       "4         0\n",
       "         ..\n",
       "122602    1\n",
       "122603    0\n",
       "122604    1\n",
       "122605    1\n",
       "122606    0\n",
       "Name: bad_loans, Length: 122607, dtype: int64"
      ]
     },
     "execution_count": 35,
     "metadata": {},
     "output_type": "execute_result"
    }
   ],
   "source": [
    "y = data[\"bad_loans\"]\n",
    "y"
   ]
  },
  {
   "cell_type": "code",
   "execution_count": 36,
   "metadata": {},
   "outputs": [],
   "source": [
    "%matplotlib inline\n",
    "import matplotlib.pyplot as plt\n",
    "import seaborn as sns"
   ]
  },
  {
   "cell_type": "markdown",
   "metadata": {},
   "source": [
    "Now, let us explore the distribution of the target column. This gives us a sense of how many safe \n",
    "and risky loans are present in the dataset. Print out the percentage of safe loans and risky loans in \n",
    "the data frame. \n",
    " \n",
    "It looks like most of these loans are safe loans (thankfully). But this does make our problem of \n",
    "identifying risky loans challenging. "
   ]
  },
  {
   "cell_type": "code",
   "execution_count": 37,
   "metadata": {},
   "outputs": [
    {
     "name": "stdout",
     "output_type": "stream",
     "text": [
      "   Value  Percentage\n",
      "0      0    0.811185\n",
      "1      1    0.188815\n"
     ]
    }
   ],
   "source": [
    "# Calculate the percentage using value_counts\n",
    "frequency_table = y.value_counts(normalize=True).reset_index()\n",
    "frequency_table.columns = ['Value', 'Percentage']\n",
    "\n",
    "# Print the table of percentage\n",
    "print(frequency_table)"
   ]
  },
  {
   "cell_type": "code",
   "execution_count": 38,
   "metadata": {},
   "outputs": [
    {
     "data": {
      "text/plain": [
       "<Axes: xlabel='bad_loans'>"
      ]
     },
     "execution_count": 38,
     "metadata": {},
     "output_type": "execute_result"
    },
    {
     "data": {
      "text/plain": [
       "Text(0.5, 0, 'Bad Loan')"
      ]
     },
     "execution_count": 38,
     "metadata": {},
     "output_type": "execute_result"
    },
    {
     "data": {
      "text/plain": [
       "Text(0, 0.5, 'Count')"
      ]
     },
     "execution_count": 38,
     "metadata": {},
     "output_type": "execute_result"
    },
    {
     "data": {
      "text/plain": [
       "Text(0.5, 1.0, 'Bad Loan Count Bar Graph')"
      ]
     },
     "execution_count": 38,
     "metadata": {},
     "output_type": "execute_result"
    },
    {
     "data": {
      "image/png": "[encoded data removed]",
      "text/plain": [
       "<Figure size 640x480 with 1 Axes>"
      ]
     },
     "metadata": {},
     "output_type": "display_data"
    }
   ],
   "source": [
    "# Plotting a bar graph\n",
    "\n",
    "y.groupby(y).count().plot(kind='bar', color=['blue', 'red']) \n",
    "plt.xlabel('Bad Loan')\n",
    "plt.ylabel('Count')\n",
    "plt.title('Bad Loan Count Bar Graph')\n",
    "plt.show()"
   ]
  },
  {
   "cell_type": "markdown",
   "metadata": {},
   "source": [
    "### Sample data to balance classes \n",
    " \n",
    "Our data is disproportionally full of safe loans. Let's create two datasets: one with just the safe \n",
    "loans (safe_loans_raw) and one with just the risky loans (risky_loans_raw). \n",
    "  \n",
    "One way to combat class imbalance is to undersample the larger class until the class distribution \n",
    "is approximately half and half. Here, we will undersample the larger class (safe loans) in order to \n",
    "balance out our dataset. This means we are throwing away many data points. We will use seed=1 \n",
    "so everyone gets the same results. Use the following codes for this task.  \n"
   ]
  },
  {
   "cell_type": "code",
   "execution_count": 39,
   "metadata": {},
   "outputs": [],
   "source": [
    "risky_loans_raw = data[data.bad_loans==1]"
   ]
  },
  {
   "cell_type": "code",
   "execution_count": 40,
   "metadata": {},
   "outputs": [
    {
     "data": {
      "text/html": [
       "<div>\n",
       "<style scoped>\n",
       "    .dataframe tbody tr th:only-of-type {\n",
       "        vertical-align: middle;\n",
       "    }\n",
       "\n",
       "    .dataframe tbody tr th {\n",
       "        vertical-align: top;\n",
       "    }\n",
       "\n",
       "    .dataframe thead th {\n",
       "        text-align: right;\n",
       "    }\n",
       "</style>\n",
       "<table border=\"1\" class=\"dataframe\">\n",
       "  <thead>\n",
       "    <tr style=\"text-align: right;\">\n",
       "      <th></th>\n",
       "      <th>grade</th>\n",
       "      <th>sub_grade</th>\n",
       "      <th>short_emp</th>\n",
       "      <th>emp_length_num</th>\n",
       "      <th>home_ownership</th>\n",
       "      <th>dti</th>\n",
       "      <th>purpose</th>\n",
       "      <th>term</th>\n",
       "      <th>last_delinq_none</th>\n",
       "      <th>last_major_derog_none</th>\n",
       "      <th>revol_util</th>\n",
       "      <th>total_rec_late_fee</th>\n",
       "      <th>bad_loans</th>\n",
       "    </tr>\n",
       "  </thead>\n",
       "  <tbody>\n",
       "    <tr>\n",
       "      <th>1</th>\n",
       "      <td>C</td>\n",
       "      <td>C4</td>\n",
       "      <td>1</td>\n",
       "      <td>1</td>\n",
       "      <td>RENT</td>\n",
       "      <td>1.00</td>\n",
       "      <td>car</td>\n",
       "      <td>60 months</td>\n",
       "      <td>1</td>\n",
       "      <td>1</td>\n",
       "      <td>9.4</td>\n",
       "      <td>0.0</td>\n",
       "      <td>1</td>\n",
       "    </tr>\n",
       "    <tr>\n",
       "      <th>6</th>\n",
       "      <td>F</td>\n",
       "      <td>F2</td>\n",
       "      <td>0</td>\n",
       "      <td>5</td>\n",
       "      <td>OWN</td>\n",
       "      <td>5.55</td>\n",
       "      <td>small_business</td>\n",
       "      <td>60 months</td>\n",
       "      <td>1</td>\n",
       "      <td>1</td>\n",
       "      <td>32.6</td>\n",
       "      <td>0.0</td>\n",
       "      <td>1</td>\n",
       "    </tr>\n",
       "    <tr>\n",
       "      <th>7</th>\n",
       "      <td>B</td>\n",
       "      <td>B5</td>\n",
       "      <td>1</td>\n",
       "      <td>1</td>\n",
       "      <td>RENT</td>\n",
       "      <td>18.08</td>\n",
       "      <td>other</td>\n",
       "      <td>60 months</td>\n",
       "      <td>1</td>\n",
       "      <td>1</td>\n",
       "      <td>36.5</td>\n",
       "      <td>0.0</td>\n",
       "      <td>1</td>\n",
       "    </tr>\n",
       "    <tr>\n",
       "      <th>10</th>\n",
       "      <td>C</td>\n",
       "      <td>C1</td>\n",
       "      <td>1</td>\n",
       "      <td>1</td>\n",
       "      <td>RENT</td>\n",
       "      <td>10.08</td>\n",
       "      <td>debt_consolidation</td>\n",
       "      <td>36 months</td>\n",
       "      <td>1</td>\n",
       "      <td>1</td>\n",
       "      <td>91.7</td>\n",
       "      <td>0.0</td>\n",
       "      <td>1</td>\n",
       "    </tr>\n",
       "    <tr>\n",
       "      <th>12</th>\n",
       "      <td>B</td>\n",
       "      <td>B2</td>\n",
       "      <td>0</td>\n",
       "      <td>4</td>\n",
       "      <td>RENT</td>\n",
       "      <td>7.06</td>\n",
       "      <td>other</td>\n",
       "      <td>36 months</td>\n",
       "      <td>1</td>\n",
       "      <td>1</td>\n",
       "      <td>55.5</td>\n",
       "      <td>0.0</td>\n",
       "      <td>1</td>\n",
       "    </tr>\n",
       "    <tr>\n",
       "      <th>...</th>\n",
       "      <td>...</td>\n",
       "      <td>...</td>\n",
       "      <td>...</td>\n",
       "      <td>...</td>\n",
       "      <td>...</td>\n",
       "      <td>...</td>\n",
       "      <td>...</td>\n",
       "      <td>...</td>\n",
       "      <td>...</td>\n",
       "      <td>...</td>\n",
       "      <td>...</td>\n",
       "      <td>...</td>\n",
       "      <td>...</td>\n",
       "    </tr>\n",
       "    <tr>\n",
       "      <th>122596</th>\n",
       "      <td>D</td>\n",
       "      <td>D1</td>\n",
       "      <td>0</td>\n",
       "      <td>11</td>\n",
       "      <td>MORTGAGE</td>\n",
       "      <td>19.56</td>\n",
       "      <td>debt_consolidation</td>\n",
       "      <td>36 months</td>\n",
       "      <td>0</td>\n",
       "      <td>1</td>\n",
       "      <td>52.5</td>\n",
       "      <td>0.0</td>\n",
       "      <td>1</td>\n",
       "    </tr>\n",
       "    <tr>\n",
       "      <th>122601</th>\n",
       "      <td>B</td>\n",
       "      <td>B5</td>\n",
       "      <td>0</td>\n",
       "      <td>5</td>\n",
       "      <td>MORTGAGE</td>\n",
       "      <td>18.69</td>\n",
       "      <td>debt_consolidation</td>\n",
       "      <td>36 months</td>\n",
       "      <td>0</td>\n",
       "      <td>1</td>\n",
       "      <td>29.5</td>\n",
       "      <td>0.0</td>\n",
       "      <td>1</td>\n",
       "    </tr>\n",
       "    <tr>\n",
       "      <th>122602</th>\n",
       "      <td>E</td>\n",
       "      <td>E5</td>\n",
       "      <td>1</td>\n",
       "      <td>0</td>\n",
       "      <td>MORTGAGE</td>\n",
       "      <td>1.50</td>\n",
       "      <td>medical</td>\n",
       "      <td>60 months</td>\n",
       "      <td>0</td>\n",
       "      <td>0</td>\n",
       "      <td>14.6</td>\n",
       "      <td>0.0</td>\n",
       "      <td>1</td>\n",
       "    </tr>\n",
       "    <tr>\n",
       "      <th>122604</th>\n",
       "      <td>D</td>\n",
       "      <td>D3</td>\n",
       "      <td>0</td>\n",
       "      <td>6</td>\n",
       "      <td>MORTGAGE</td>\n",
       "      <td>12.28</td>\n",
       "      <td>medical</td>\n",
       "      <td>60 months</td>\n",
       "      <td>0</td>\n",
       "      <td>0</td>\n",
       "      <td>10.7</td>\n",
       "      <td>0.0</td>\n",
       "      <td>1</td>\n",
       "    </tr>\n",
       "    <tr>\n",
       "      <th>122605</th>\n",
       "      <td>D</td>\n",
       "      <td>D5</td>\n",
       "      <td>0</td>\n",
       "      <td>11</td>\n",
       "      <td>MORTGAGE</td>\n",
       "      <td>18.45</td>\n",
       "      <td>debt_consolidation</td>\n",
       "      <td>60 months</td>\n",
       "      <td>1</td>\n",
       "      <td>1</td>\n",
       "      <td>46.3</td>\n",
       "      <td>0.0</td>\n",
       "      <td>1</td>\n",
       "    </tr>\n",
       "  </tbody>\n",
       "</table>\n",
       "<p>23150 rows × 13 columns</p>\n",
       "</div>"
      ],
      "text/plain": [
       "       grade sub_grade  short_emp  emp_length_num home_ownership    dti  \\\n",
       "1          C        C4          1               1           RENT   1.00   \n",
       "6          F        F2          0               5            OWN   5.55   \n",
       "7          B        B5          1               1           RENT  18.08   \n",
       "10         C        C1          1               1           RENT  10.08   \n",
       "12         B        B2          0               4           RENT   7.06   \n",
       "...      ...       ...        ...             ...            ...    ...   \n",
       "122596     D        D1          0              11       MORTGAGE  19.56   \n",
       "122601     B        B5          0               5       MORTGAGE  18.69   \n",
       "122602     E        E5          1               0       MORTGAGE   1.50   \n",
       "122604     D        D3          0               6       MORTGAGE  12.28   \n",
       "122605     D        D5          0              11       MORTGAGE  18.45   \n",
       "\n",
       "                   purpose        term  last_delinq_none  \\\n",
       "1                      car   60 months                 1   \n",
       "6           small_business   60 months                 1   \n",
       "7                    other   60 months                 1   \n",
       "10      debt_consolidation   36 months                 1   \n",
       "12                   other   36 months                 1   \n",
       "...                    ...         ...               ...   \n",
       "122596  debt_consolidation   36 months                 0   \n",
       "122601  debt_consolidation   36 months                 0   \n",
       "122602             medical   60 months                 0   \n",
       "122604             medical   60 months                 0   \n",
       "122605  debt_consolidation   60 months                 1   \n",
       "\n",
       "        last_major_derog_none  revol_util  total_rec_late_fee  bad_loans  \n",
       "1                           1         9.4                 0.0          1  \n",
       "6                           1        32.6                 0.0          1  \n",
       "7                           1        36.5                 0.0          1  \n",
       "10                          1        91.7                 0.0          1  \n",
       "12                          1        55.5                 0.0          1  \n",
       "...                       ...         ...                 ...        ...  \n",
       "122596                      1        52.5                 0.0          1  \n",
       "122601                      1        29.5                 0.0          1  \n",
       "122602                      0        14.6                 0.0          1  \n",
       "122604                      0        10.7                 0.0          1  \n",
       "122605                      1        46.3                 0.0          1  \n",
       "\n",
       "[23150 rows x 13 columns]"
      ]
     },
     "execution_count": 40,
     "metadata": {},
     "output_type": "execute_result"
    }
   ],
   "source": [
    "risky_loans_raw"
   ]
  },
  {
   "cell_type": "code",
   "execution_count": 41,
   "metadata": {},
   "outputs": [],
   "source": [
    "safe_loans_raw = data[data.bad_loans==0]"
   ]
  },
  {
   "cell_type": "code",
   "execution_count": 42,
   "metadata": {},
   "outputs": [
    {
     "data": {
      "text/html": [
       "<div>\n",
       "<style scoped>\n",
       "    .dataframe tbody tr th:only-of-type {\n",
       "        vertical-align: middle;\n",
       "    }\n",
       "\n",
       "    .dataframe tbody tr th {\n",
       "        vertical-align: top;\n",
       "    }\n",
       "\n",
       "    .dataframe thead th {\n",
       "        text-align: right;\n",
       "    }\n",
       "</style>\n",
       "<table border=\"1\" class=\"dataframe\">\n",
       "  <thead>\n",
       "    <tr style=\"text-align: right;\">\n",
       "      <th></th>\n",
       "      <th>grade</th>\n",
       "      <th>sub_grade</th>\n",
       "      <th>short_emp</th>\n",
       "      <th>emp_length_num</th>\n",
       "      <th>home_ownership</th>\n",
       "      <th>dti</th>\n",
       "      <th>purpose</th>\n",
       "      <th>term</th>\n",
       "      <th>last_delinq_none</th>\n",
       "      <th>last_major_derog_none</th>\n",
       "      <th>revol_util</th>\n",
       "      <th>total_rec_late_fee</th>\n",
       "      <th>bad_loans</th>\n",
       "    </tr>\n",
       "  </thead>\n",
       "  <tbody>\n",
       "    <tr>\n",
       "      <th>0</th>\n",
       "      <td>B</td>\n",
       "      <td>B2</td>\n",
       "      <td>0</td>\n",
       "      <td>11</td>\n",
       "      <td>RENT</td>\n",
       "      <td>27.65</td>\n",
       "      <td>credit_card</td>\n",
       "      <td>36 months</td>\n",
       "      <td>1</td>\n",
       "      <td>1</td>\n",
       "      <td>83.7</td>\n",
       "      <td>0.00</td>\n",
       "      <td>0</td>\n",
       "    </tr>\n",
       "    <tr>\n",
       "      <th>2</th>\n",
       "      <td>C</td>\n",
       "      <td>C5</td>\n",
       "      <td>0</td>\n",
       "      <td>11</td>\n",
       "      <td>RENT</td>\n",
       "      <td>8.72</td>\n",
       "      <td>small_business</td>\n",
       "      <td>36 months</td>\n",
       "      <td>1</td>\n",
       "      <td>1</td>\n",
       "      <td>98.5</td>\n",
       "      <td>0.00</td>\n",
       "      <td>0</td>\n",
       "    </tr>\n",
       "    <tr>\n",
       "      <th>3</th>\n",
       "      <td>C</td>\n",
       "      <td>C1</td>\n",
       "      <td>0</td>\n",
       "      <td>11</td>\n",
       "      <td>RENT</td>\n",
       "      <td>20.00</td>\n",
       "      <td>other</td>\n",
       "      <td>36 months</td>\n",
       "      <td>0</td>\n",
       "      <td>1</td>\n",
       "      <td>21.0</td>\n",
       "      <td>16.97</td>\n",
       "      <td>0</td>\n",
       "    </tr>\n",
       "    <tr>\n",
       "      <th>4</th>\n",
       "      <td>A</td>\n",
       "      <td>A4</td>\n",
       "      <td>0</td>\n",
       "      <td>4</td>\n",
       "      <td>RENT</td>\n",
       "      <td>11.20</td>\n",
       "      <td>wedding</td>\n",
       "      <td>36 months</td>\n",
       "      <td>1</td>\n",
       "      <td>1</td>\n",
       "      <td>28.3</td>\n",
       "      <td>0.00</td>\n",
       "      <td>0</td>\n",
       "    </tr>\n",
       "    <tr>\n",
       "      <th>5</th>\n",
       "      <td>E</td>\n",
       "      <td>E1</td>\n",
       "      <td>0</td>\n",
       "      <td>10</td>\n",
       "      <td>RENT</td>\n",
       "      <td>5.35</td>\n",
       "      <td>car</td>\n",
       "      <td>36 months</td>\n",
       "      <td>1</td>\n",
       "      <td>1</td>\n",
       "      <td>87.5</td>\n",
       "      <td>0.00</td>\n",
       "      <td>0</td>\n",
       "    </tr>\n",
       "    <tr>\n",
       "      <th>...</th>\n",
       "      <td>...</td>\n",
       "      <td>...</td>\n",
       "      <td>...</td>\n",
       "      <td>...</td>\n",
       "      <td>...</td>\n",
       "      <td>...</td>\n",
       "      <td>...</td>\n",
       "      <td>...</td>\n",
       "      <td>...</td>\n",
       "      <td>...</td>\n",
       "      <td>...</td>\n",
       "      <td>...</td>\n",
       "      <td>...</td>\n",
       "    </tr>\n",
       "    <tr>\n",
       "      <th>122598</th>\n",
       "      <td>A</td>\n",
       "      <td>A5</td>\n",
       "      <td>0</td>\n",
       "      <td>3</td>\n",
       "      <td>MORTGAGE</td>\n",
       "      <td>14.60</td>\n",
       "      <td>medical</td>\n",
       "      <td>36 months</td>\n",
       "      <td>1</td>\n",
       "      <td>1</td>\n",
       "      <td>82.7</td>\n",
       "      <td>0.00</td>\n",
       "      <td>0</td>\n",
       "    </tr>\n",
       "    <tr>\n",
       "      <th>122599</th>\n",
       "      <td>G</td>\n",
       "      <td>G2</td>\n",
       "      <td>0</td>\n",
       "      <td>11</td>\n",
       "      <td>MORTGAGE</td>\n",
       "      <td>26.27</td>\n",
       "      <td>medical</td>\n",
       "      <td>60 months</td>\n",
       "      <td>0</td>\n",
       "      <td>0</td>\n",
       "      <td>94.1</td>\n",
       "      <td>0.00</td>\n",
       "      <td>0</td>\n",
       "    </tr>\n",
       "    <tr>\n",
       "      <th>122600</th>\n",
       "      <td>D</td>\n",
       "      <td>D3</td>\n",
       "      <td>1</td>\n",
       "      <td>1</td>\n",
       "      <td>RENT</td>\n",
       "      <td>6.41</td>\n",
       "      <td>other</td>\n",
       "      <td>36 months</td>\n",
       "      <td>0</td>\n",
       "      <td>1</td>\n",
       "      <td>55.9</td>\n",
       "      <td>0.00</td>\n",
       "      <td>0</td>\n",
       "    </tr>\n",
       "    <tr>\n",
       "      <th>122603</th>\n",
       "      <td>D</td>\n",
       "      <td>D2</td>\n",
       "      <td>0</td>\n",
       "      <td>11</td>\n",
       "      <td>MORTGAGE</td>\n",
       "      <td>11.26</td>\n",
       "      <td>debt_consolidation</td>\n",
       "      <td>36 months</td>\n",
       "      <td>0</td>\n",
       "      <td>0</td>\n",
       "      <td>15.2</td>\n",
       "      <td>0.00</td>\n",
       "      <td>0</td>\n",
       "    </tr>\n",
       "    <tr>\n",
       "      <th>122606</th>\n",
       "      <td>A</td>\n",
       "      <td>A4</td>\n",
       "      <td>0</td>\n",
       "      <td>4</td>\n",
       "      <td>OWN</td>\n",
       "      <td>5.39</td>\n",
       "      <td>credit_card</td>\n",
       "      <td>36 months</td>\n",
       "      <td>0</td>\n",
       "      <td>1</td>\n",
       "      <td>21.5</td>\n",
       "      <td>0.00</td>\n",
       "      <td>0</td>\n",
       "    </tr>\n",
       "  </tbody>\n",
       "</table>\n",
       "<p>99457 rows × 13 columns</p>\n",
       "</div>"
      ],
      "text/plain": [
       "       grade sub_grade  short_emp  emp_length_num home_ownership    dti  \\\n",
       "0          B        B2          0              11           RENT  27.65   \n",
       "2          C        C5          0              11           RENT   8.72   \n",
       "3          C        C1          0              11           RENT  20.00   \n",
       "4          A        A4          0               4           RENT  11.20   \n",
       "5          E        E1          0              10           RENT   5.35   \n",
       "...      ...       ...        ...             ...            ...    ...   \n",
       "122598     A        A5          0               3       MORTGAGE  14.60   \n",
       "122599     G        G2          0              11       MORTGAGE  26.27   \n",
       "122600     D        D3          1               1           RENT   6.41   \n",
       "122603     D        D2          0              11       MORTGAGE  11.26   \n",
       "122606     A        A4          0               4            OWN   5.39   \n",
       "\n",
       "                   purpose        term  last_delinq_none  \\\n",
       "0              credit_card   36 months                 1   \n",
       "2           small_business   36 months                 1   \n",
       "3                    other   36 months                 0   \n",
       "4                  wedding   36 months                 1   \n",
       "5                      car   36 months                 1   \n",
       "...                    ...         ...               ...   \n",
       "122598             medical   36 months                 1   \n",
       "122599             medical   60 months                 0   \n",
       "122600               other   36 months                 0   \n",
       "122603  debt_consolidation   36 months                 0   \n",
       "122606         credit_card   36 months                 0   \n",
       "\n",
       "        last_major_derog_none  revol_util  total_rec_late_fee  bad_loans  \n",
       "0                           1        83.7                0.00          0  \n",
       "2                           1        98.5                0.00          0  \n",
       "3                           1        21.0               16.97          0  \n",
       "4                           1        28.3                0.00          0  \n",
       "5                           1        87.5                0.00          0  \n",
       "...                       ...         ...                 ...        ...  \n",
       "122598                      1        82.7                0.00          0  \n",
       "122599                      0        94.1                0.00          0  \n",
       "122600                      1        55.9                0.00          0  \n",
       "122603                      0        15.2                0.00          0  \n",
       "122606                      1        21.5                0.00          0  \n",
       "\n",
       "[99457 rows x 13 columns]"
      ]
     },
     "execution_count": 42,
     "metadata": {},
     "output_type": "execute_result"
    }
   ],
   "source": [
    "safe_loans_raw"
   ]
  },
  {
   "cell_type": "code",
   "execution_count": 43,
   "metadata": {},
   "outputs": [],
   "source": [
    "percentage = len(risky_loans_raw)/float(len(safe_loans_raw)) \n",
    " \n",
    "risky_loans = risky_loans_raw \n",
    "\n",
    "safe_loans = safe_loans_raw.sample(frac = percentage, random_state = 1) \n",
    " \n",
    "# Append the risky_loans with the downsampled version of safe_loans \n",
    "\n",
    "loans_data = pd.concat([risky_loans, safe_loans], ignore_index=True)"
   ]
  },
  {
   "cell_type": "code",
   "execution_count": 44,
   "metadata": {},
   "outputs": [
    {
     "data": {
      "text/plain": [
       "(23150, 13)"
      ]
     },
     "execution_count": 44,
     "metadata": {},
     "output_type": "execute_result"
    }
   ],
   "source": [
    "loans_data[loans_data.bad_loans==1].shape"
   ]
  },
  {
   "cell_type": "code",
   "execution_count": 45,
   "metadata": {},
   "outputs": [
    {
     "data": {
      "text/plain": [
       "(23150, 13)"
      ]
     },
     "execution_count": 45,
     "metadata": {},
     "output_type": "execute_result"
    }
   ],
   "source": [
    "loans_data[loans_data.bad_loans==0].shape"
   ]
  },
  {
   "cell_type": "markdown",
   "metadata": {},
   "source": [
    "### One-hot encoding \n",
    " \n",
    "For scikit-learn's implementation, it requires numerical values for it's data matrix. This means \n",
    "you will have to turn categorical variables into binary features via one-hot encoding."
   ]
  },
  {
   "cell_type": "code",
   "execution_count": 46,
   "metadata": {},
   "outputs": [
    {
     "name": "stdout",
     "output_type": "stream",
     "text": [
      "<class 'pandas.core.frame.DataFrame'>\n",
      "RangeIndex: 46300 entries, 0 to 46299\n",
      "Data columns (total 13 columns):\n",
      " #   Column                 Non-Null Count  Dtype  \n",
      "---  ------                 --------------  -----  \n",
      " 0   grade                  46300 non-null  object \n",
      " 1   sub_grade              46300 non-null  object \n",
      " 2   short_emp              46300 non-null  int64  \n",
      " 3   emp_length_num         46300 non-null  int64  \n",
      " 4   home_ownership         46300 non-null  object \n",
      " 5   dti                    46300 non-null  float64\n",
      " 6   purpose                46300 non-null  object \n",
      " 7   term                   46300 non-null  object \n",
      " 8   last_delinq_none       46300 non-null  int64  \n",
      " 9   last_major_derog_none  46300 non-null  int64  \n",
      " 10  revol_util             46300 non-null  float64\n",
      " 11  total_rec_late_fee     46300 non-null  float64\n",
      " 12  bad_loans              46300 non-null  int64  \n",
      "dtypes: float64(3), int64(5), object(5)\n",
      "memory usage: 4.6+ MB\n"
     ]
    }
   ],
   "source": [
    "loans_data.info()"
   ]
  },
  {
   "cell_type": "code",
   "execution_count": 47,
   "metadata": {},
   "outputs": [],
   "source": [
    "col_cat = [\"grade\",\"sub_grade\",\"home_ownership\",\"purpose\",\"term\"]\n",
    "col_num = [\"emp_length_num\",\"dti\",\"revol_util\",\"total_rec_late_fee\"]\n",
    "\n",
    "pipe_num = make_pipeline(StandardScaler(), SimpleImputer())\n",
    "pipe_cat = make_pipeline(SimpleImputer(strategy = 'constant'), \n",
    "                         OneHotEncoder(handle_unknown = 'ignore'))\n",
    "\n",
    "preprocessor = make_column_transformer( (pipe_cat,col_cat) , (pipe_num,col_num) )"
   ]
  },
  {
   "cell_type": "markdown",
   "metadata": {},
   "source": [
    "### Split data into training and validation and test sets \n",
    " \n",
    "First, split the original data into train-validate set (90%) and test set (10%) using random state = 0.  \n",
    "Then, split the train-validate set into training set (80%) and validation set (20%) using random \n",
    "state = 0. "
   ]
  },
  {
   "cell_type": "code",
   "execution_count": 48,
   "metadata": {},
   "outputs": [],
   "source": [
    "X = loans_data.drop(\"bad_loans\", axis=1)\n",
    "y = loans_data[\"bad_loans\"]\n",
    "\n",
    "X_train_val, X_test, y_train_val, y_test = train_test_split(\n",
    "    X,y, test_size=0.1, random_state=0)\n",
    "X_train, X_val, y_train, y_val = train_test_split(\n",
    "    X_train_val,y_train_val, test_size=0.2, random_state=0)\n"
   ]
  },
  {
   "cell_type": "markdown",
   "metadata": {},
   "source": [
    "### Build a MLP classifier \n",
    " \n",
    "Use 5-fold GridSearchCV on the train-validate set. Build a MLP classifier and based on accuracy \n",
    "compare hyperparameters in the following grid:  \n",
    "hidden_layer_sizes: [(10,), (50,), (100,), (10, 10), (50, 50)] "
   ]
  },
  {
   "cell_type": "code",
   "execution_count": 49,
   "metadata": {},
   "outputs": [],
   "source": [
    "pipe = make_pipeline(preprocessor, MLPClassifier(random_state = 0, max_iter = 1500))\n",
    "param_grid = {'mlpclassifier__hidden_layer_sizes':\n",
    "              [(10,), (50,), (100,), (10, 10), (50, 50)] }\n",
    "\n",
    "grid = GridSearchCV(pipe, param_grid, cv=5, return_train_score=True)"
   ]
  },
  {
   "cell_type": "code",
   "execution_count": 50,
   "metadata": {},
   "outputs": [
    {
     "data": {
      "text/html": [
       "<style>#sk-container-id-2 {color: black;}#sk-container-id-2 pre{padding: 0;}#sk-container-id-2 div.sk-toggleable {background-color: white;}#sk-container-id-2 label.sk-toggleable__label {cursor: pointer;display: block;width: 100%;margin-bottom: 0;padding: 0.3em;box-sizing: border-box;text-align: center;}#sk-container-id-2 label.sk-toggleable__label-arrow:before {content: \"▸\";float: left;margin-right: 0.25em;color: #696969;}#sk-container-id-2 label.sk-toggleable__label-arrow:hover:before {color: black;}#sk-container-id-2 div.sk-estimator:hover label.sk-toggleable__label-arrow:before {color: black;}#sk-container-id-2 div.sk-toggleable__content {max-height: 0;max-width: 0;overflow: hidden;text-align: left;background-color: #f0f8ff;}#sk-container-id-2 div.sk-toggleable__content pre {margin: 0.2em;color: black;border-radius: 0.25em;background-color: #f0f8ff;}#sk-container-id-2 input.sk-toggleable__control:checked~div.sk-toggleable__content {max-height: 200px;max-width: 100%;overflow: auto;}#sk-container-id-2 input.sk-toggleable__control:checked~label.sk-toggleable__label-arrow:before {content: \"▾\";}#sk-container-id-2 div.sk-estimator input.sk-toggleable__control:checked~label.sk-toggleable__label {background-color: #d4ebff;}#sk-container-id-2 div.sk-label input.sk-toggleable__control:checked~label.sk-toggleable__label {background-color: #d4ebff;}#sk-container-id-2 input.sk-hidden--visually {border: 0;clip: rect(1px 1px 1px 1px);clip: rect(1px, 1px, 1px, 1px);height: 1px;margin: -1px;overflow: hidden;padding: 0;position: absolute;width: 1px;}#sk-container-id-2 div.sk-estimator {font-family: monospace;background-color: #f0f8ff;border: 1px dotted black;border-radius: 0.25em;box-sizing: border-box;margin-bottom: 0.5em;}#sk-container-id-2 div.sk-estimator:hover {background-color: #d4ebff;}#sk-container-id-2 div.sk-parallel-item::after {content: \"\";width: 100%;border-bottom: 1px solid gray;flex-grow: 1;}#sk-container-id-2 div.sk-label:hover label.sk-toggleable__label {background-color: #d4ebff;}#sk-container-id-2 div.sk-serial::before {content: \"\";position: absolute;border-left: 1px solid gray;box-sizing: border-box;top: 0;bottom: 0;left: 50%;z-index: 0;}#sk-container-id-2 div.sk-serial {display: flex;flex-direction: column;align-items: center;background-color: white;padding-right: 0.2em;padding-left: 0.2em;position: relative;}#sk-container-id-2 div.sk-item {position: relative;z-index: 1;}#sk-container-id-2 div.sk-parallel {display: flex;align-items: stretch;justify-content: center;background-color: white;position: relative;}#sk-container-id-2 div.sk-item::before, #sk-container-id-2 div.sk-parallel-item::before {content: \"\";position: absolute;border-left: 1px solid gray;box-sizing: border-box;top: 0;bottom: 0;left: 50%;z-index: -1;}#sk-container-id-2 div.sk-parallel-item {display: flex;flex-direction: column;z-index: 1;position: relative;background-color: white;}#sk-container-id-2 div.sk-parallel-item:first-child::after {align-self: flex-end;width: 50%;}#sk-container-id-2 div.sk-parallel-item:last-child::after {align-self: flex-start;width: 50%;}#sk-container-id-2 div.sk-parallel-item:only-child::after {width: 0;}#sk-container-id-2 div.sk-dashed-wrapped {border: 1px dashed gray;margin: 0 0.4em 0.5em 0.4em;box-sizing: border-box;padding-bottom: 0.4em;background-color: white;}#sk-container-id-2 div.sk-label label {font-family: monospace;font-weight: bold;display: inline-block;line-height: 1.2em;}#sk-container-id-2 div.sk-label-container {text-align: center;}#sk-container-id-2 div.sk-container {/* jupyter's `normalize.less` sets `[hidden] { display: none; }` but bootstrap.min.css set `[hidden] { display: none !important; }` so we also need the `!important` here to be able to override the default hidden behavior on the sphinx rendered scikit-learn.org. See: https://github.com/scikit-learn/scikit-learn/issues/21755 */display: inline-block !important;position: relative;}#sk-container-id-2 div.sk-text-repr-fallback {display: none;}</style><div id=\"sk-container-id-2\" class=\"sk-top-container\"><div class=\"sk-text-repr-fallback\"><pre>GridSearchCV(cv=5,\n",
       "             estimator=Pipeline(steps=[(&#x27;columntransformer&#x27;,\n",
       "                                        ColumnTransformer(transformers=[(&#x27;pipeline-1&#x27;,\n",
       "                                                                         Pipeline(steps=[(&#x27;simpleimputer&#x27;,\n",
       "                                                                                          SimpleImputer(strategy=&#x27;constant&#x27;)),\n",
       "                                                                                         (&#x27;onehotencoder&#x27;,\n",
       "                                                                                          OneHotEncoder(handle_unknown=&#x27;ignore&#x27;))]),\n",
       "                                                                         [&#x27;grade&#x27;,\n",
       "                                                                          &#x27;sub_grade&#x27;,\n",
       "                                                                          &#x27;home_ownership&#x27;,\n",
       "                                                                          &#x27;purpose&#x27;,\n",
       "                                                                          &#x27;term&#x27;]),\n",
       "                                                                        (&#x27;pipeline-2&#x27;,\n",
       "                                                                         Pipeline(steps=[(&#x27;standardscaler&#x27;,\n",
       "                                                                                          StandardScaler()),\n",
       "                                                                                         (&#x27;simpleimputer&#x27;,\n",
       "                                                                                          SimpleImputer())]),\n",
       "                                                                         [&#x27;emp_length_num&#x27;,\n",
       "                                                                          &#x27;dti&#x27;,\n",
       "                                                                          &#x27;revol_util&#x27;,\n",
       "                                                                          &#x27;total_rec_late_fee&#x27;])])),\n",
       "                                       (&#x27;mlpclassifier&#x27;,\n",
       "                                        MLPClassifier(max_iter=1500,\n",
       "                                                      random_state=0))]),\n",
       "             param_grid={&#x27;mlpclassifier__hidden_layer_sizes&#x27;: [(10,), (50,),\n",
       "                                                               (100,), (10, 10),\n",
       "                                                               (50, 50)]},\n",
       "             return_train_score=True)</pre><b>In a Jupyter environment, please rerun this cell to show the HTML representation or trust the notebook. <br />On GitHub, the HTML representation is unable to render, please try loading this page with nbviewer.org.</b></div><div class=\"sk-container\" hidden><div class=\"sk-item sk-dashed-wrapped\"><div class=\"sk-label-container\"><div class=\"sk-label sk-toggleable\"><input class=\"sk-toggleable__control sk-hidden--visually\" id=\"sk-estimator-id-11\" type=\"checkbox\" ><label for=\"sk-estimator-id-11\" class=\"sk-toggleable__label sk-toggleable__label-arrow\">GridSearchCV</label><div class=\"sk-toggleable__content\"><pre>GridSearchCV(cv=5,\n",
       "             estimator=Pipeline(steps=[(&#x27;columntransformer&#x27;,\n",
       "                                        ColumnTransformer(transformers=[(&#x27;pipeline-1&#x27;,\n",
       "                                                                         Pipeline(steps=[(&#x27;simpleimputer&#x27;,\n",
       "                                                                                          SimpleImputer(strategy=&#x27;constant&#x27;)),\n",
       "                                                                                         (&#x27;onehotencoder&#x27;,\n",
       "                                                                                          OneHotEncoder(handle_unknown=&#x27;ignore&#x27;))]),\n",
       "                                                                         [&#x27;grade&#x27;,\n",
       "                                                                          &#x27;sub_grade&#x27;,\n",
       "                                                                          &#x27;home_ownership&#x27;,\n",
       "                                                                          &#x27;purpose&#x27;,\n",
       "                                                                          &#x27;term&#x27;]),\n",
       "                                                                        (&#x27;pipeline-2&#x27;,\n",
       "                                                                         Pipeline(steps=[(&#x27;standardscaler&#x27;,\n",
       "                                                                                          StandardScaler()),\n",
       "                                                                                         (&#x27;simpleimputer&#x27;,\n",
       "                                                                                          SimpleImputer())]),\n",
       "                                                                         [&#x27;emp_length_num&#x27;,\n",
       "                                                                          &#x27;dti&#x27;,\n",
       "                                                                          &#x27;revol_util&#x27;,\n",
       "                                                                          &#x27;total_rec_late_fee&#x27;])])),\n",
       "                                       (&#x27;mlpclassifier&#x27;,\n",
       "                                        MLPClassifier(max_iter=1500,\n",
       "                                                      random_state=0))]),\n",
       "             param_grid={&#x27;mlpclassifier__hidden_layer_sizes&#x27;: [(10,), (50,),\n",
       "                                                               (100,), (10, 10),\n",
       "                                                               (50, 50)]},\n",
       "             return_train_score=True)</pre></div></div></div><div class=\"sk-parallel\"><div class=\"sk-parallel-item\"><div class=\"sk-item\"><div class=\"sk-label-container\"><div class=\"sk-label sk-toggleable\"><input class=\"sk-toggleable__control sk-hidden--visually\" id=\"sk-estimator-id-12\" type=\"checkbox\" ><label for=\"sk-estimator-id-12\" class=\"sk-toggleable__label sk-toggleable__label-arrow\">estimator: Pipeline</label><div class=\"sk-toggleable__content\"><pre>Pipeline(steps=[(&#x27;columntransformer&#x27;,\n",
       "                 ColumnTransformer(transformers=[(&#x27;pipeline-1&#x27;,\n",
       "                                                  Pipeline(steps=[(&#x27;simpleimputer&#x27;,\n",
       "                                                                   SimpleImputer(strategy=&#x27;constant&#x27;)),\n",
       "                                                                  (&#x27;onehotencoder&#x27;,\n",
       "                                                                   OneHotEncoder(handle_unknown=&#x27;ignore&#x27;))]),\n",
       "                                                  [&#x27;grade&#x27;, &#x27;sub_grade&#x27;,\n",
       "                                                   &#x27;home_ownership&#x27;, &#x27;purpose&#x27;,\n",
       "                                                   &#x27;term&#x27;]),\n",
       "                                                 (&#x27;pipeline-2&#x27;,\n",
       "                                                  Pipeline(steps=[(&#x27;standardscaler&#x27;,\n",
       "                                                                   StandardScaler()),\n",
       "                                                                  (&#x27;simpleimputer&#x27;,\n",
       "                                                                   SimpleImputer())]),\n",
       "                                                  [&#x27;emp_length_num&#x27;, &#x27;dti&#x27;,\n",
       "                                                   &#x27;revol_util&#x27;,\n",
       "                                                   &#x27;total_rec_late_fee&#x27;])])),\n",
       "                (&#x27;mlpclassifier&#x27;,\n",
       "                 MLPClassifier(max_iter=1500, random_state=0))])</pre></div></div></div><div class=\"sk-serial\"><div class=\"sk-item\"><div class=\"sk-serial\"><div class=\"sk-item sk-dashed-wrapped\"><div class=\"sk-label-container\"><div class=\"sk-label sk-toggleable\"><input class=\"sk-toggleable__control sk-hidden--visually\" id=\"sk-estimator-id-13\" type=\"checkbox\" ><label for=\"sk-estimator-id-13\" class=\"sk-toggleable__label sk-toggleable__label-arrow\">columntransformer: ColumnTransformer</label><div class=\"sk-toggleable__content\"><pre>ColumnTransformer(transformers=[(&#x27;pipeline-1&#x27;,\n",
       "                                 Pipeline(steps=[(&#x27;simpleimputer&#x27;,\n",
       "                                                  SimpleImputer(strategy=&#x27;constant&#x27;)),\n",
       "                                                 (&#x27;onehotencoder&#x27;,\n",
       "                                                  OneHotEncoder(handle_unknown=&#x27;ignore&#x27;))]),\n",
       "                                 [&#x27;grade&#x27;, &#x27;sub_grade&#x27;, &#x27;home_ownership&#x27;,\n",
       "                                  &#x27;purpose&#x27;, &#x27;term&#x27;]),\n",
       "                                (&#x27;pipeline-2&#x27;,\n",
       "                                 Pipeline(steps=[(&#x27;standardscaler&#x27;,\n",
       "                                                  StandardScaler()),\n",
       "                                                 (&#x27;simpleimputer&#x27;,\n",
       "                                                  SimpleImputer())]),\n",
       "                                 [&#x27;emp_length_num&#x27;, &#x27;dti&#x27;, &#x27;revol_util&#x27;,\n",
       "                                  &#x27;total_rec_late_fee&#x27;])])</pre></div></div></div><div class=\"sk-parallel\"><div class=\"sk-parallel-item\"><div class=\"sk-item\"><div class=\"sk-label-container\"><div class=\"sk-label sk-toggleable\"><input class=\"sk-toggleable__control sk-hidden--visually\" id=\"sk-estimator-id-14\" type=\"checkbox\" ><label for=\"sk-estimator-id-14\" class=\"sk-toggleable__label sk-toggleable__label-arrow\">pipeline-1</label><div class=\"sk-toggleable__content\"><pre>[&#x27;grade&#x27;, &#x27;sub_grade&#x27;, &#x27;home_ownership&#x27;, &#x27;purpose&#x27;, &#x27;term&#x27;]</pre></div></div></div><div class=\"sk-serial\"><div class=\"sk-item\"><div class=\"sk-serial\"><div class=\"sk-item\"><div class=\"sk-estimator sk-toggleable\"><input class=\"sk-toggleable__control sk-hidden--visually\" id=\"sk-estimator-id-15\" type=\"checkbox\" ><label for=\"sk-estimator-id-15\" class=\"sk-toggleable__label sk-toggleable__label-arrow\">SimpleImputer</label><div class=\"sk-toggleable__content\"><pre>SimpleImputer(strategy=&#x27;constant&#x27;)</pre></div></div></div><div class=\"sk-item\"><div class=\"sk-estimator sk-toggleable\"><input class=\"sk-toggleable__control sk-hidden--visually\" id=\"sk-estimator-id-16\" type=\"checkbox\" ><label for=\"sk-estimator-id-16\" class=\"sk-toggleable__label sk-toggleable__label-arrow\">OneHotEncoder</label><div class=\"sk-toggleable__content\"><pre>OneHotEncoder(handle_unknown=&#x27;ignore&#x27;)</pre></div></div></div></div></div></div></div></div><div class=\"sk-parallel-item\"><div class=\"sk-item\"><div class=\"sk-label-container\"><div class=\"sk-label sk-toggleable\"><input class=\"sk-toggleable__control sk-hidden--visually\" id=\"sk-estimator-id-17\" type=\"checkbox\" ><label for=\"sk-estimator-id-17\" class=\"sk-toggleable__label sk-toggleable__label-arrow\">pipeline-2</label><div class=\"sk-toggleable__content\"><pre>[&#x27;emp_length_num&#x27;, &#x27;dti&#x27;, &#x27;revol_util&#x27;, &#x27;total_rec_late_fee&#x27;]</pre></div></div></div><div class=\"sk-serial\"><div class=\"sk-item\"><div class=\"sk-serial\"><div class=\"sk-item\"><div class=\"sk-estimator sk-toggleable\"><input class=\"sk-toggleable__control sk-hidden--visually\" id=\"sk-estimator-id-18\" type=\"checkbox\" ><label for=\"sk-estimator-id-18\" class=\"sk-toggleable__label sk-toggleable__label-arrow\">StandardScaler</label><div class=\"sk-toggleable__content\"><pre>StandardScaler()</pre></div></div></div><div class=\"sk-item\"><div class=\"sk-estimator sk-toggleable\"><input class=\"sk-toggleable__control sk-hidden--visually\" id=\"sk-estimator-id-19\" type=\"checkbox\" ><label for=\"sk-estimator-id-19\" class=\"sk-toggleable__label sk-toggleable__label-arrow\">SimpleImputer</label><div class=\"sk-toggleable__content\"><pre>SimpleImputer()</pre></div></div></div></div></div></div></div></div></div></div><div class=\"sk-item\"><div class=\"sk-estimator sk-toggleable\"><input class=\"sk-toggleable__control sk-hidden--visually\" id=\"sk-estimator-id-20\" type=\"checkbox\" ><label for=\"sk-estimator-id-20\" class=\"sk-toggleable__label sk-toggleable__label-arrow\">MLPClassifier</label><div class=\"sk-toggleable__content\"><pre>MLPClassifier(max_iter=1500, random_state=0)</pre></div></div></div></div></div></div></div></div></div></div></div></div>"
      ],
      "text/plain": [
       "GridSearchCV(cv=5,\n",
       "             estimator=Pipeline(steps=[('columntransformer',\n",
       "                                        ColumnTransformer(transformers=[('pipeline-1',\n",
       "                                                                         Pipeline(steps=[('simpleimputer',\n",
       "                                                                                          SimpleImputer(strategy='constant')),\n",
       "                                                                                         ('onehotencoder',\n",
       "                                                                                          OneHotEncoder(handle_unknown='ignore'))]),\n",
       "                                                                         ['grade',\n",
       "                                                                          'sub_grade',\n",
       "                                                                          'home_ownership',\n",
       "                                                                          'purpose',\n",
       "                                                                          'term']),\n",
       "                                                                        ('pipeline-2',\n",
       "                                                                         Pipeline(steps=[('standardscaler',\n",
       "                                                                                          StandardScaler()),\n",
       "                                                                                         ('simpleimputer',\n",
       "                                                                                          SimpleImputer())]),\n",
       "                                                                         ['emp_length_num',\n",
       "                                                                          'dti',\n",
       "                                                                          'revol_util',\n",
       "                                                                          'total_rec_late_fee'])])),\n",
       "                                       ('mlpclassifier',\n",
       "                                        MLPClassifier(max_iter=1500,\n",
       "                                                      random_state=0))]),\n",
       "             param_grid={'mlpclassifier__hidden_layer_sizes': [(10,), (50,),\n",
       "                                                               (100,), (10, 10),\n",
       "                                                               (50, 50)]},\n",
       "             return_train_score=True)"
      ]
     },
     "execution_count": 50,
     "metadata": {},
     "output_type": "execute_result"
    }
   ],
   "source": [
    "grid.fit(X_train_val, y_train_val)"
   ]
  },
  {
   "cell_type": "code",
   "execution_count": 51,
   "metadata": {},
   "outputs": [
    {
     "data": {
      "text/html": [
       "<div>\n",
       "<style scoped>\n",
       "    .dataframe tbody tr th:only-of-type {\n",
       "        vertical-align: middle;\n",
       "    }\n",
       "\n",
       "    .dataframe tbody tr th {\n",
       "        vertical-align: top;\n",
       "    }\n",
       "\n",
       "    .dataframe thead th {\n",
       "        text-align: right;\n",
       "    }\n",
       "</style>\n",
       "<table border=\"1\" class=\"dataframe\">\n",
       "  <thead>\n",
       "    <tr style=\"text-align: right;\">\n",
       "      <th></th>\n",
       "      <th>mean_fit_time</th>\n",
       "      <th>std_fit_time</th>\n",
       "      <th>mean_score_time</th>\n",
       "      <th>std_score_time</th>\n",
       "      <th>param_mlpclassifier__hidden_layer_sizes</th>\n",
       "      <th>params</th>\n",
       "      <th>split0_test_score</th>\n",
       "      <th>split1_test_score</th>\n",
       "      <th>split2_test_score</th>\n",
       "      <th>split3_test_score</th>\n",
       "      <th>...</th>\n",
       "      <th>mean_test_score</th>\n",
       "      <th>std_test_score</th>\n",
       "      <th>rank_test_score</th>\n",
       "      <th>split0_train_score</th>\n",
       "      <th>split1_train_score</th>\n",
       "      <th>split2_train_score</th>\n",
       "      <th>split3_train_score</th>\n",
       "      <th>split4_train_score</th>\n",
       "      <th>mean_train_score</th>\n",
       "      <th>std_train_score</th>\n",
       "    </tr>\n",
       "  </thead>\n",
       "  <tbody>\n",
       "    <tr>\n",
       "      <th>0</th>\n",
       "      <td>4.450697</td>\n",
       "      <td>1.208264</td>\n",
       "      <td>0.016004</td>\n",
       "      <td>0.003100</td>\n",
       "      <td>(10,)</td>\n",
       "      <td>{'mlpclassifier__hidden_layer_sizes': (10,)}</td>\n",
       "      <td>0.636429</td>\n",
       "      <td>0.639069</td>\n",
       "      <td>0.638709</td>\n",
       "      <td>0.640509</td>\n",
       "      <td>...</td>\n",
       "      <td>0.639381</td>\n",
       "      <td>0.001919</td>\n",
       "      <td>1</td>\n",
       "      <td>0.650108</td>\n",
       "      <td>0.649208</td>\n",
       "      <td>0.647348</td>\n",
       "      <td>0.649958</td>\n",
       "      <td>0.648338</td>\n",
       "      <td>0.648992</td>\n",
       "      <td>0.001035</td>\n",
       "    </tr>\n",
       "    <tr>\n",
       "      <th>1</th>\n",
       "      <td>24.092881</td>\n",
       "      <td>2.630064</td>\n",
       "      <td>0.017404</td>\n",
       "      <td>0.001856</td>\n",
       "      <td>(50,)</td>\n",
       "      <td>{'mlpclassifier__hidden_layer_sizes': (50,)}</td>\n",
       "      <td>0.614111</td>\n",
       "      <td>0.613631</td>\n",
       "      <td>0.617951</td>\n",
       "      <td>0.619270</td>\n",
       "      <td>...</td>\n",
       "      <td>0.616679</td>\n",
       "      <td>0.002336</td>\n",
       "      <td>3</td>\n",
       "      <td>0.684185</td>\n",
       "      <td>0.685505</td>\n",
       "      <td>0.680916</td>\n",
       "      <td>0.683525</td>\n",
       "      <td>0.685055</td>\n",
       "      <td>0.683837</td>\n",
       "      <td>0.001614</td>\n",
       "    </tr>\n",
       "    <tr>\n",
       "      <th>2</th>\n",
       "      <td>37.497295</td>\n",
       "      <td>4.787869</td>\n",
       "      <td>0.022005</td>\n",
       "      <td>0.002281</td>\n",
       "      <td>(100,)</td>\n",
       "      <td>{'mlpclassifier__hidden_layer_sizes': (100,)}</td>\n",
       "      <td>0.615311</td>\n",
       "      <td>0.602112</td>\n",
       "      <td>0.613271</td>\n",
       "      <td>0.607871</td>\n",
       "      <td>...</td>\n",
       "      <td>0.610727</td>\n",
       "      <td>0.005074</td>\n",
       "      <td>4</td>\n",
       "      <td>0.708453</td>\n",
       "      <td>0.716103</td>\n",
       "      <td>0.708513</td>\n",
       "      <td>0.714693</td>\n",
       "      <td>0.707823</td>\n",
       "      <td>0.711117</td>\n",
       "      <td>0.003532</td>\n",
       "    </tr>\n",
       "    <tr>\n",
       "      <th>3</th>\n",
       "      <td>13.212293</td>\n",
       "      <td>1.625533</td>\n",
       "      <td>0.018521</td>\n",
       "      <td>0.001799</td>\n",
       "      <td>(10, 10)</td>\n",
       "      <td>{'mlpclassifier__hidden_layer_sizes': (10, 10)}</td>\n",
       "      <td>0.635709</td>\n",
       "      <td>0.639309</td>\n",
       "      <td>0.640869</td>\n",
       "      <td>0.635829</td>\n",
       "      <td>...</td>\n",
       "      <td>0.637077</td>\n",
       "      <td>0.002623</td>\n",
       "      <td>2</td>\n",
       "      <td>0.653258</td>\n",
       "      <td>0.655418</td>\n",
       "      <td>0.654818</td>\n",
       "      <td>0.651008</td>\n",
       "      <td>0.654158</td>\n",
       "      <td>0.653732</td>\n",
       "      <td>0.001539</td>\n",
       "    </tr>\n",
       "    <tr>\n",
       "      <th>4</th>\n",
       "      <td>54.464045</td>\n",
       "      <td>7.135667</td>\n",
       "      <td>0.020180</td>\n",
       "      <td>0.002753</td>\n",
       "      <td>(50, 50)</td>\n",
       "      <td>{'mlpclassifier__hidden_layer_sizes': (50, 50)}</td>\n",
       "      <td>0.599952</td>\n",
       "      <td>0.595632</td>\n",
       "      <td>0.590593</td>\n",
       "      <td>0.590953</td>\n",
       "      <td>...</td>\n",
       "      <td>0.593808</td>\n",
       "      <td>0.003554</td>\n",
       "      <td>5</td>\n",
       "      <td>0.741931</td>\n",
       "      <td>0.742651</td>\n",
       "      <td>0.739501</td>\n",
       "      <td>0.734251</td>\n",
       "      <td>0.740551</td>\n",
       "      <td>0.739777</td>\n",
       "      <td>0.002970</td>\n",
       "    </tr>\n",
       "  </tbody>\n",
       "</table>\n",
       "<p>5 rows × 21 columns</p>\n",
       "</div>"
      ],
      "text/plain": [
       "   mean_fit_time  std_fit_time  mean_score_time  std_score_time  \\\n",
       "0       4.450697      1.208264         0.016004        0.003100   \n",
       "1      24.092881      2.630064         0.017404        0.001856   \n",
       "2      37.497295      4.787869         0.022005        0.002281   \n",
       "3      13.212293      1.625533         0.018521        0.001799   \n",
       "4      54.464045      7.135667         0.020180        0.002753   \n",
       "\n",
       "  param_mlpclassifier__hidden_layer_sizes  \\\n",
       "0                                   (10,)   \n",
       "1                                   (50,)   \n",
       "2                                  (100,)   \n",
       "3                                (10, 10)   \n",
       "4                                (50, 50)   \n",
       "\n",
       "                                            params  split0_test_score  \\\n",
       "0     {'mlpclassifier__hidden_layer_sizes': (10,)}           0.636429   \n",
       "1     {'mlpclassifier__hidden_layer_sizes': (50,)}           0.614111   \n",
       "2    {'mlpclassifier__hidden_layer_sizes': (100,)}           0.615311   \n",
       "3  {'mlpclassifier__hidden_layer_sizes': (10, 10)}           0.635709   \n",
       "4  {'mlpclassifier__hidden_layer_sizes': (50, 50)}           0.599952   \n",
       "\n",
       "   split1_test_score  split2_test_score  split3_test_score  ...  \\\n",
       "0           0.639069           0.638709           0.640509  ...   \n",
       "1           0.613631           0.617951           0.619270  ...   \n",
       "2           0.602112           0.613271           0.607871  ...   \n",
       "3           0.639309           0.640869           0.635829  ...   \n",
       "4           0.595632           0.590593           0.590953  ...   \n",
       "\n",
       "   mean_test_score  std_test_score  rank_test_score  split0_train_score  \\\n",
       "0         0.639381        0.001919                1            0.650108   \n",
       "1         0.616679        0.002336                3            0.684185   \n",
       "2         0.610727        0.005074                4            0.708453   \n",
       "3         0.637077        0.002623                2            0.653258   \n",
       "4         0.593808        0.003554                5            0.741931   \n",
       "\n",
       "   split1_train_score  split2_train_score  split3_train_score  \\\n",
       "0            0.649208            0.647348            0.649958   \n",
       "1            0.685505            0.680916            0.683525   \n",
       "2            0.716103            0.708513            0.714693   \n",
       "3            0.655418            0.654818            0.651008   \n",
       "4            0.742651            0.739501            0.734251   \n",
       "\n",
       "   split4_train_score  mean_train_score  std_train_score  \n",
       "0            0.648338          0.648992         0.001035  \n",
       "1            0.685055          0.683837         0.001614  \n",
       "2            0.707823          0.711117         0.003532  \n",
       "3            0.654158          0.653732         0.001539  \n",
       "4            0.740551          0.739777         0.002970  \n",
       "\n",
       "[5 rows x 21 columns]"
      ]
     },
     "execution_count": 51,
     "metadata": {},
     "output_type": "execute_result"
    }
   ],
   "source": [
    "results = pd.DataFrame(grid.cv_results_)\n",
    "results"
   ]
  },
  {
   "cell_type": "code",
   "execution_count": 52,
   "metadata": {},
   "outputs": [
    {
     "name": "stdout",
     "output_type": "stream",
     "text": [
      "Accuracy score is 0.639\n",
      "The best accracy is when  {'mlpclassifier__hidden_layer_sizes': (10,)}\n"
     ]
    }
   ],
   "source": [
    "print('Accuracy score is {:.3f}'.format(grid.best_score_))\n",
    "print('The best accracy is when ',grid.best_params_ )"
   ]
  },
  {
   "cell_type": "markdown",
   "metadata": {},
   "source": [
    "### Report the best model (call it MODEL1)’s accuracy, precision, recall, F1-score, balanced accuracy, ROC-AUC on the test set. Plot the precision-recall curve and the ROC curve."
   ]
  },
  {
   "cell_type": "code",
   "execution_count": 53,
   "metadata": {},
   "outputs": [
    {
     "name": "stdout",
     "output_type": "stream",
     "text": [
      "The accuracy of model1 is 0.6300\n"
     ]
    }
   ],
   "source": [
    "print(f\"The accuracy of model1 is {met.accuracy_score(y_test,grid.predict(X_test)):.4f}\")"
   ]
  },
  {
   "cell_type": "code",
   "execution_count": 54,
   "metadata": {},
   "outputs": [
    {
     "name": "stdout",
     "output_type": "stream",
     "text": [
      "The precision of model1 is 0.6256\n"
     ]
    }
   ],
   "source": [
    "print(f\"The precision of model1 is {met.precision_score(y_test,grid.predict(X_test)):.4f}\")"
   ]
  },
  {
   "cell_type": "code",
   "execution_count": 55,
   "metadata": {},
   "outputs": [
    {
     "name": "stdout",
     "output_type": "stream",
     "text": [
      "The recall of model1 is 0.6297\n"
     ]
    }
   ],
   "source": [
    "print(f\"The recall of model1 is {met.recall_score(y_test,grid.predict(X_test)):.4f}\")"
   ]
  },
  {
   "cell_type": "code",
   "execution_count": 56,
   "metadata": {},
   "outputs": [
    {
     "name": "stdout",
     "output_type": "stream",
     "text": [
      "The f1 score of model1 is 0.6277\n"
     ]
    }
   ],
   "source": [
    "print(f\"The f1 score of model1 is {met.f1_score(y_test,grid.predict(X_test)):.4f}\")"
   ]
  },
  {
   "cell_type": "code",
   "execution_count": 57,
   "metadata": {},
   "outputs": [
    {
     "name": "stdout",
     "output_type": "stream",
     "text": [
      "The balanced accuracy score of model1 is 0.6300\n"
     ]
    }
   ],
   "source": [
    "print(f\"The balanced accuracy score of model1 is {met.balanced_accuracy_score(y_test,grid.predict(X_test)):.4f}\")"
   ]
  },
  {
   "cell_type": "code",
   "execution_count": 58,
   "metadata": {},
   "outputs": [
    {
     "name": "stdout",
     "output_type": "stream",
     "text": [
      "The roc_auc score of model1 is 0.6300\n"
     ]
    }
   ],
   "source": [
    "print(f\"The roc_auc score of model1 is {met.roc_auc_score(y_test,grid.predict(X_test)):.4f}\")"
   ]
  },
  {
   "cell_type": "code",
   "execution_count": 59,
   "metadata": {},
   "outputs": [],
   "source": [
    "from sklearn.metrics import precision_recall_curve, precision_recall_fscore_support\n",
    "import matplotlib.pyplot as plt"
   ]
  },
  {
   "cell_type": "code",
   "execution_count": 60,
   "metadata": {},
   "outputs": [
    {
     "data": {
      "text/plain": [
       "[<matplotlib.lines.Line2D at 0x2224c071590>]"
      ]
     },
     "execution_count": 60,
     "metadata": {},
     "output_type": "execute_result"
    },
    {
     "data": {
      "text/plain": [
       "[<matplotlib.lines.Line2D at 0x2223ad78350>]"
      ]
     },
     "execution_count": 60,
     "metadata": {},
     "output_type": "execute_result"
    },
    {
     "data": {
      "text/plain": [
       "Text(0.5, 0, 'Recall')"
      ]
     },
     "execution_count": 60,
     "metadata": {},
     "output_type": "execute_result"
    },
    {
     "data": {
      "text/plain": [
       "Text(0, 0.5, 'Precision')"
      ]
     },
     "execution_count": 60,
     "metadata": {},
     "output_type": "execute_result"
    },
    {
     "data": {
      "text/plain": [
       "Text(0.5, 1.0, 'Precision-Recall Curve with Threshold Point')"
      ]
     },
     "execution_count": 60,
     "metadata": {},
     "output_type": "execute_result"
    },
    {
     "data": {
      "text/plain": [
       "<matplotlib.legend.Legend at 0x2224f1a9ed0>"
      ]
     },
     "execution_count": 60,
     "metadata": {},
     "output_type": "execute_result"
    },
    {
     "data": {
      "image/png": "[encoded data removed]",
      "text/plain": [
       "<Figure size 640x480 with 1 Axes>"
      ]
     },
     "metadata": {},
     "output_type": "display_data"
    }
   ],
   "source": [
    "# Assuming you have the true labels (y_test) and predicted probabilities for the positive class (grid.predict_proba(X_test)[:, 1])\n",
    "precision, recall, thresholds = precision_recall_curve(y_test, grid.predict_proba(X_test)[:, 1])\n",
    "\n",
    "# Calculate precision and recall at a specific threshold (e.g., threshold zero)\n",
    "threshold_zero = 0  # Adjust this threshold as needed\n",
    "precision_at_zero, recall_at_zero, _, _ = precision_recall_fscore_support(y_test, grid.predict(X_test) > threshold_zero, average='binary')\n",
    "\n",
    "# Plot the precision-recall curve\n",
    "plt.plot(recall, precision, label='Precision-Recall Curve')\n",
    "\n",
    "# Plot a point at the specific threshold\n",
    "plt.plot(recall_at_zero, precision_at_zero, 'o', markersize=10, label=f'Threshold {threshold_zero}', fillstyle=\"none\", c='k', mew=2)\n",
    "\n",
    "plt.xlabel('Recall')\n",
    "plt.ylabel('Precision')\n",
    "plt.title('Precision-Recall Curve with Threshold Point')\n",
    "plt.legend()\n",
    "plt.show()"
   ]
  },
  {
   "cell_type": "markdown",
   "metadata": {},
   "source": [
    "### Will you choose a different model (call it MODEL2) if the GridSearchCV comparison was based on ROC-AUC? Why?"
   ]
  },
  {
   "cell_type": "code",
   "execution_count": 61,
   "metadata": {},
   "outputs": [
    {
     "data": {
      "text/plain": [
       "[<matplotlib.lines.Line2D at 0x2224c129dd0>]"
      ]
     },
     "execution_count": 61,
     "metadata": {},
     "output_type": "execute_result"
    },
    {
     "data": {
      "text/plain": [
       "[<matplotlib.lines.Line2D at 0x2224c10aa50>]"
      ]
     },
     "execution_count": 61,
     "metadata": {},
     "output_type": "execute_result"
    },
    {
     "data": {
      "text/plain": [
       "Text(0.5, 0, 'False Positive Rate')"
      ]
     },
     "execution_count": 61,
     "metadata": {},
     "output_type": "execute_result"
    },
    {
     "data": {
      "text/plain": [
       "Text(0, 0.5, 'True Positive Rate')"
      ]
     },
     "execution_count": 61,
     "metadata": {},
     "output_type": "execute_result"
    },
    {
     "data": {
      "text/plain": [
       "Text(0.5, 1.0, 'ROC Curve with Threshold Point')"
      ]
     },
     "execution_count": 61,
     "metadata": {},
     "output_type": "execute_result"
    },
    {
     "data": {
      "text/plain": [
       "<matplotlib.legend.Legend at 0x2224c108d90>"
      ]
     },
     "execution_count": 61,
     "metadata": {},
     "output_type": "execute_result"
    },
    {
     "data": {
      "image/png": "[encoded data removed]",
      "text/plain": [
       "<Figure size 640x480 with 1 Axes>"
      ]
     },
     "metadata": {},
     "output_type": "display_data"
    }
   ],
   "source": [
    "from sklearn.metrics import roc_curve, roc_auc_score\n",
    "import matplotlib.pyplot as plt\n",
    "from sklearn.metrics import confusion_matrix\n",
    "\n",
    "# Assuming you have the true labels (y_test) and predicted probabilities for the positive class (grid.predict_proba(X_test)[:, 1])\n",
    "fpr, tpr, thresholds = roc_curve(y_test, grid.predict_proba(X_test)[:, 1])\n",
    "\n",
    "# Calculate ROC-AUC score\n",
    "roc_auc = roc_auc_score(y_test, grid.predict_proba(X_test)[:, 1])\n",
    "\n",
    "confusion_mlp = confusion_matrix(y_test, grid.predict(X_test), normalize='true')\n",
    "\n",
    "# Plot the ROC curve\n",
    "plt.plot(fpr, tpr, label=f'ROC Curve (AUC = {roc_auc:.2f})')\n",
    "\n",
    "plt.plot(confusion_mlp[0, 1], confusion_mlp[1, 1], 'o', markersize=10,\n",
    "         label=\"threshold zero MLP\", fillstyle=\"none\", c='k', mew=2)\n",
    "\n",
    "plt.xlabel('False Positive Rate')\n",
    "plt.ylabel('True Positive Rate')\n",
    "plt.title('ROC Curve with Threshold Point')\n",
    "plt.legend()\n",
    "plt.show()"
   ]
  },
  {
   "cell_type": "code",
   "execution_count": 62,
   "metadata": {},
   "outputs": [],
   "source": [
    "from sklearn.ensemble import GradientBoostingClassifier"
   ]
  },
  {
   "cell_type": "code",
   "execution_count": 63,
   "metadata": {},
   "outputs": [
    {
     "data": {
      "text/plain": [
       "{'gradientboostingclassifier__learning_rate': array([0.01, 0.1 , 1.  ]),\n",
       " 'gradientboostingclassifier__n_estimators': [5, 10, 50, 100, 200, 500]}"
      ]
     },
     "execution_count": 63,
     "metadata": {},
     "output_type": "execute_result"
    }
   ],
   "source": [
    "pipe_gb = make_pipeline(preprocessor, GradientBoostingClassifier(max_depth=6))\n",
    "\n",
    "np.set_printoptions(precision=6, suppress=True)\n",
    "param_grid = {'gradientboostingclassifier__learning_rate': np.logspace(-2, 0, 3),\n",
    "              'gradientboostingclassifier__n_estimators': [5, 10, 50, 100, 200, 500]}\n",
    "param_grid"
   ]
  },
  {
   "cell_type": "code",
   "execution_count": 64,
   "metadata": {},
   "outputs": [
    {
     "data": {
      "text/html": [
       "<style>#sk-container-id-3 {color: black;}#sk-container-id-3 pre{padding: 0;}#sk-container-id-3 div.sk-toggleable {background-color: white;}#sk-container-id-3 label.sk-toggleable__label {cursor: pointer;display: block;width: 100%;margin-bottom: 0;padding: 0.3em;box-sizing: border-box;text-align: center;}#sk-container-id-3 label.sk-toggleable__label-arrow:before {content: \"▸\";float: left;margin-right: 0.25em;color: #696969;}#sk-container-id-3 label.sk-toggleable__label-arrow:hover:before {color: black;}#sk-container-id-3 div.sk-estimator:hover label.sk-toggleable__label-arrow:before {color: black;}#sk-container-id-3 div.sk-toggleable__content {max-height: 0;max-width: 0;overflow: hidden;text-align: left;background-color: #f0f8ff;}#sk-container-id-3 div.sk-toggleable__content pre {margin: 0.2em;color: black;border-radius: 0.25em;background-color: #f0f8ff;}#sk-container-id-3 input.sk-toggleable__control:checked~div.sk-toggleable__content {max-height: 200px;max-width: 100%;overflow: auto;}#sk-container-id-3 input.sk-toggleable__control:checked~label.sk-toggleable__label-arrow:before {content: \"▾\";}#sk-container-id-3 div.sk-estimator input.sk-toggleable__control:checked~label.sk-toggleable__label {background-color: #d4ebff;}#sk-container-id-3 div.sk-label input.sk-toggleable__control:checked~label.sk-toggleable__label {background-color: #d4ebff;}#sk-container-id-3 input.sk-hidden--visually {border: 0;clip: rect(1px 1px 1px 1px);clip: rect(1px, 1px, 1px, 1px);height: 1px;margin: -1px;overflow: hidden;padding: 0;position: absolute;width: 1px;}#sk-container-id-3 div.sk-estimator {font-family: monospace;background-color: #f0f8ff;border: 1px dotted black;border-radius: 0.25em;box-sizing: border-box;margin-bottom: 0.5em;}#sk-container-id-3 div.sk-estimator:hover {background-color: #d4ebff;}#sk-container-id-3 div.sk-parallel-item::after {content: \"\";width: 100%;border-bottom: 1px solid gray;flex-grow: 1;}#sk-container-id-3 div.sk-label:hover label.sk-toggleable__label {background-color: #d4ebff;}#sk-container-id-3 div.sk-serial::before {content: \"\";position: absolute;border-left: 1px solid gray;box-sizing: border-box;top: 0;bottom: 0;left: 50%;z-index: 0;}#sk-container-id-3 div.sk-serial {display: flex;flex-direction: column;align-items: center;background-color: white;padding-right: 0.2em;padding-left: 0.2em;position: relative;}#sk-container-id-3 div.sk-item {position: relative;z-index: 1;}#sk-container-id-3 div.sk-parallel {display: flex;align-items: stretch;justify-content: center;background-color: white;position: relative;}#sk-container-id-3 div.sk-item::before, #sk-container-id-3 div.sk-parallel-item::before {content: \"\";position: absolute;border-left: 1px solid gray;box-sizing: border-box;top: 0;bottom: 0;left: 50%;z-index: -1;}#sk-container-id-3 div.sk-parallel-item {display: flex;flex-direction: column;z-index: 1;position: relative;background-color: white;}#sk-container-id-3 div.sk-parallel-item:first-child::after {align-self: flex-end;width: 50%;}#sk-container-id-3 div.sk-parallel-item:last-child::after {align-self: flex-start;width: 50%;}#sk-container-id-3 div.sk-parallel-item:only-child::after {width: 0;}#sk-container-id-3 div.sk-dashed-wrapped {border: 1px dashed gray;margin: 0 0.4em 0.5em 0.4em;box-sizing: border-box;padding-bottom: 0.4em;background-color: white;}#sk-container-id-3 div.sk-label label {font-family: monospace;font-weight: bold;display: inline-block;line-height: 1.2em;}#sk-container-id-3 div.sk-label-container {text-align: center;}#sk-container-id-3 div.sk-container {/* jupyter's `normalize.less` sets `[hidden] { display: none; }` but bootstrap.min.css set `[hidden] { display: none !important; }` so we also need the `!important` here to be able to override the default hidden behavior on the sphinx rendered scikit-learn.org. See: https://github.com/scikit-learn/scikit-learn/issues/21755 */display: inline-block !important;position: relative;}#sk-container-id-3 div.sk-text-repr-fallback {display: none;}</style><div id=\"sk-container-id-3\" class=\"sk-top-container\"><div class=\"sk-text-repr-fallback\"><pre>GridSearchCV(cv=5,\n",
       "             estimator=Pipeline(steps=[(&#x27;columntransformer&#x27;,\n",
       "                                        ColumnTransformer(transformers=[(&#x27;pipeline-1&#x27;,\n",
       "                                                                         Pipeline(steps=[(&#x27;simpleimputer&#x27;,\n",
       "                                                                                          SimpleImputer(strategy=&#x27;constant&#x27;)),\n",
       "                                                                                         (&#x27;onehotencoder&#x27;,\n",
       "                                                                                          OneHotEncoder(handle_unknown=&#x27;ignore&#x27;))]),\n",
       "                                                                         [&#x27;grade&#x27;,\n",
       "                                                                          &#x27;sub_grade&#x27;,\n",
       "                                                                          &#x27;home_ownership&#x27;,\n",
       "                                                                          &#x27;purpose&#x27;,\n",
       "                                                                          &#x27;term&#x27;]),\n",
       "                                                                        (&#x27;pipeline-2&#x27;,\n",
       "                                                                         Pipeline(steps=[(&#x27;standardscaler&#x27;,\n",
       "                                                                                          StandardScaler()),\n",
       "                                                                                         (&#x27;simpleimputer&#x27;,\n",
       "                                                                                          SimpleImputer())]),\n",
       "                                                                         [&#x27;emp_length_num&#x27;,\n",
       "                                                                          &#x27;dti&#x27;,\n",
       "                                                                          &#x27;revol_util&#x27;,\n",
       "                                                                          &#x27;total_rec_late_fee&#x27;])])),\n",
       "                                       (&#x27;gradientboostingclassifier&#x27;,\n",
       "                                        GradientBoostingClassifier(max_depth=6))]),\n",
       "             param_grid={&#x27;gradientboostingclassifier__learning_rate&#x27;: array([0.01, 0.1 , 1.  ]),\n",
       "                         &#x27;gradientboostingclassifier__n_estimators&#x27;: [5, 10, 50,\n",
       "                                                                      100, 200,\n",
       "                                                                      500]},\n",
       "             return_train_score=True)</pre><b>In a Jupyter environment, please rerun this cell to show the HTML representation or trust the notebook. <br />On GitHub, the HTML representation is unable to render, please try loading this page with nbviewer.org.</b></div><div class=\"sk-container\" hidden><div class=\"sk-item sk-dashed-wrapped\"><div class=\"sk-label-container\"><div class=\"sk-label sk-toggleable\"><input class=\"sk-toggleable__control sk-hidden--visually\" id=\"sk-estimator-id-21\" type=\"checkbox\" ><label for=\"sk-estimator-id-21\" class=\"sk-toggleable__label sk-toggleable__label-arrow\">GridSearchCV</label><div class=\"sk-toggleable__content\"><pre>GridSearchCV(cv=5,\n",
       "             estimator=Pipeline(steps=[(&#x27;columntransformer&#x27;,\n",
       "                                        ColumnTransformer(transformers=[(&#x27;pipeline-1&#x27;,\n",
       "                                                                         Pipeline(steps=[(&#x27;simpleimputer&#x27;,\n",
       "                                                                                          SimpleImputer(strategy=&#x27;constant&#x27;)),\n",
       "                                                                                         (&#x27;onehotencoder&#x27;,\n",
       "                                                                                          OneHotEncoder(handle_unknown=&#x27;ignore&#x27;))]),\n",
       "                                                                         [&#x27;grade&#x27;,\n",
       "                                                                          &#x27;sub_grade&#x27;,\n",
       "                                                                          &#x27;home_ownership&#x27;,\n",
       "                                                                          &#x27;purpose&#x27;,\n",
       "                                                                          &#x27;term&#x27;]),\n",
       "                                                                        (&#x27;pipeline-2&#x27;,\n",
       "                                                                         Pipeline(steps=[(&#x27;standardscaler&#x27;,\n",
       "                                                                                          StandardScaler()),\n",
       "                                                                                         (&#x27;simpleimputer&#x27;,\n",
       "                                                                                          SimpleImputer())]),\n",
       "                                                                         [&#x27;emp_length_num&#x27;,\n",
       "                                                                          &#x27;dti&#x27;,\n",
       "                                                                          &#x27;revol_util&#x27;,\n",
       "                                                                          &#x27;total_rec_late_fee&#x27;])])),\n",
       "                                       (&#x27;gradientboostingclassifier&#x27;,\n",
       "                                        GradientBoostingClassifier(max_depth=6))]),\n",
       "             param_grid={&#x27;gradientboostingclassifier__learning_rate&#x27;: array([0.01, 0.1 , 1.  ]),\n",
       "                         &#x27;gradientboostingclassifier__n_estimators&#x27;: [5, 10, 50,\n",
       "                                                                      100, 200,\n",
       "                                                                      500]},\n",
       "             return_train_score=True)</pre></div></div></div><div class=\"sk-parallel\"><div class=\"sk-parallel-item\"><div class=\"sk-item\"><div class=\"sk-label-container\"><div class=\"sk-label sk-toggleable\"><input class=\"sk-toggleable__control sk-hidden--visually\" id=\"sk-estimator-id-22\" type=\"checkbox\" ><label for=\"sk-estimator-id-22\" class=\"sk-toggleable__label sk-toggleable__label-arrow\">estimator: Pipeline</label><div class=\"sk-toggleable__content\"><pre>Pipeline(steps=[(&#x27;columntransformer&#x27;,\n",
       "                 ColumnTransformer(transformers=[(&#x27;pipeline-1&#x27;,\n",
       "                                                  Pipeline(steps=[(&#x27;simpleimputer&#x27;,\n",
       "                                                                   SimpleImputer(strategy=&#x27;constant&#x27;)),\n",
       "                                                                  (&#x27;onehotencoder&#x27;,\n",
       "                                                                   OneHotEncoder(handle_unknown=&#x27;ignore&#x27;))]),\n",
       "                                                  [&#x27;grade&#x27;, &#x27;sub_grade&#x27;,\n",
       "                                                   &#x27;home_ownership&#x27;, &#x27;purpose&#x27;,\n",
       "                                                   &#x27;term&#x27;]),\n",
       "                                                 (&#x27;pipeline-2&#x27;,\n",
       "                                                  Pipeline(steps=[(&#x27;standardscaler&#x27;,\n",
       "                                                                   StandardScaler()),\n",
       "                                                                  (&#x27;simpleimputer&#x27;,\n",
       "                                                                   SimpleImputer())]),\n",
       "                                                  [&#x27;emp_length_num&#x27;, &#x27;dti&#x27;,\n",
       "                                                   &#x27;revol_util&#x27;,\n",
       "                                                   &#x27;total_rec_late_fee&#x27;])])),\n",
       "                (&#x27;gradientboostingclassifier&#x27;,\n",
       "                 GradientBoostingClassifier(max_depth=6))])</pre></div></div></div><div class=\"sk-serial\"><div class=\"sk-item\"><div class=\"sk-serial\"><div class=\"sk-item sk-dashed-wrapped\"><div class=\"sk-label-container\"><div class=\"sk-label sk-toggleable\"><input class=\"sk-toggleable__control sk-hidden--visually\" id=\"sk-estimator-id-23\" type=\"checkbox\" ><label for=\"sk-estimator-id-23\" class=\"sk-toggleable__label sk-toggleable__label-arrow\">columntransformer: ColumnTransformer</label><div class=\"sk-toggleable__content\"><pre>ColumnTransformer(transformers=[(&#x27;pipeline-1&#x27;,\n",
       "                                 Pipeline(steps=[(&#x27;simpleimputer&#x27;,\n",
       "                                                  SimpleImputer(strategy=&#x27;constant&#x27;)),\n",
       "                                                 (&#x27;onehotencoder&#x27;,\n",
       "                                                  OneHotEncoder(handle_unknown=&#x27;ignore&#x27;))]),\n",
       "                                 [&#x27;grade&#x27;, &#x27;sub_grade&#x27;, &#x27;home_ownership&#x27;,\n",
       "                                  &#x27;purpose&#x27;, &#x27;term&#x27;]),\n",
       "                                (&#x27;pipeline-2&#x27;,\n",
       "                                 Pipeline(steps=[(&#x27;standardscaler&#x27;,\n",
       "                                                  StandardScaler()),\n",
       "                                                 (&#x27;simpleimputer&#x27;,\n",
       "                                                  SimpleImputer())]),\n",
       "                                 [&#x27;emp_length_num&#x27;, &#x27;dti&#x27;, &#x27;revol_util&#x27;,\n",
       "                                  &#x27;total_rec_late_fee&#x27;])])</pre></div></div></div><div class=\"sk-parallel\"><div class=\"sk-parallel-item\"><div class=\"sk-item\"><div class=\"sk-label-container\"><div class=\"sk-label sk-toggleable\"><input class=\"sk-toggleable__control sk-hidden--visually\" id=\"sk-estimator-id-24\" type=\"checkbox\" ><label for=\"sk-estimator-id-24\" class=\"sk-toggleable__label sk-toggleable__label-arrow\">pipeline-1</label><div class=\"sk-toggleable__content\"><pre>[&#x27;grade&#x27;, &#x27;sub_grade&#x27;, &#x27;home_ownership&#x27;, &#x27;purpose&#x27;, &#x27;term&#x27;]</pre></div></div></div><div class=\"sk-serial\"><div class=\"sk-item\"><div class=\"sk-serial\"><div class=\"sk-item\"><div class=\"sk-estimator sk-toggleable\"><input class=\"sk-toggleable__control sk-hidden--visually\" id=\"sk-estimator-id-25\" type=\"checkbox\" ><label for=\"sk-estimator-id-25\" class=\"sk-toggleable__label sk-toggleable__label-arrow\">SimpleImputer</label><div class=\"sk-toggleable__content\"><pre>SimpleImputer(strategy=&#x27;constant&#x27;)</pre></div></div></div><div class=\"sk-item\"><div class=\"sk-estimator sk-toggleable\"><input class=\"sk-toggleable__control sk-hidden--visually\" id=\"sk-estimator-id-26\" type=\"checkbox\" ><label for=\"sk-estimator-id-26\" class=\"sk-toggleable__label sk-toggleable__label-arrow\">OneHotEncoder</label><div class=\"sk-toggleable__content\"><pre>OneHotEncoder(handle_unknown=&#x27;ignore&#x27;)</pre></div></div></div></div></div></div></div></div><div class=\"sk-parallel-item\"><div class=\"sk-item\"><div class=\"sk-label-container\"><div class=\"sk-label sk-toggleable\"><input class=\"sk-toggleable__control sk-hidden--visually\" id=\"sk-estimator-id-27\" type=\"checkbox\" ><label for=\"sk-estimator-id-27\" class=\"sk-toggleable__label sk-toggleable__label-arrow\">pipeline-2</label><div class=\"sk-toggleable__content\"><pre>[&#x27;emp_length_num&#x27;, &#x27;dti&#x27;, &#x27;revol_util&#x27;, &#x27;total_rec_late_fee&#x27;]</pre></div></div></div><div class=\"sk-serial\"><div class=\"sk-item\"><div class=\"sk-serial\"><div class=\"sk-item\"><div class=\"sk-estimator sk-toggleable\"><input class=\"sk-toggleable__control sk-hidden--visually\" id=\"sk-estimator-id-28\" type=\"checkbox\" ><label for=\"sk-estimator-id-28\" class=\"sk-toggleable__label sk-toggleable__label-arrow\">StandardScaler</label><div class=\"sk-toggleable__content\"><pre>StandardScaler()</pre></div></div></div><div class=\"sk-item\"><div class=\"sk-estimator sk-toggleable\"><input class=\"sk-toggleable__control sk-hidden--visually\" id=\"sk-estimator-id-29\" type=\"checkbox\" ><label for=\"sk-estimator-id-29\" class=\"sk-toggleable__label sk-toggleable__label-arrow\">SimpleImputer</label><div class=\"sk-toggleable__content\"><pre>SimpleImputer()</pre></div></div></div></div></div></div></div></div></div></div><div class=\"sk-item\"><div class=\"sk-estimator sk-toggleable\"><input class=\"sk-toggleable__control sk-hidden--visually\" id=\"sk-estimator-id-30\" type=\"checkbox\" ><label for=\"sk-estimator-id-30\" class=\"sk-toggleable__label sk-toggleable__label-arrow\">GradientBoostingClassifier</label><div class=\"sk-toggleable__content\"><pre>GradientBoostingClassifier(max_depth=6)</pre></div></div></div></div></div></div></div></div></div></div></div></div>"
      ],
      "text/plain": [
       "GridSearchCV(cv=5,\n",
       "             estimator=Pipeline(steps=[('columntransformer',\n",
       "                                        ColumnTransformer(transformers=[('pipeline-1',\n",
       "                                                                         Pipeline(steps=[('simpleimputer',\n",
       "                                                                                          SimpleImputer(strategy='constant')),\n",
       "                                                                                         ('onehotencoder',\n",
       "                                                                                          OneHotEncoder(handle_unknown='ignore'))]),\n",
       "                                                                         ['grade',\n",
       "                                                                          'sub_grade',\n",
       "                                                                          'home_ownership',\n",
       "                                                                          'purpose',\n",
       "                                                                          'term']),\n",
       "                                                                        ('pipeline-2',\n",
       "                                                                         Pipeline(steps=[('standardscaler',\n",
       "                                                                                          StandardScaler()),\n",
       "                                                                                         ('simpleimputer',\n",
       "                                                                                          SimpleImputer())]),\n",
       "                                                                         ['emp_length_num',\n",
       "                                                                          'dti',\n",
       "                                                                          'revol_util',\n",
       "                                                                          'total_rec_late_fee'])])),\n",
       "                                       ('gradientboostingclassifier',\n",
       "                                        GradientBoostingClassifier(max_depth=6))]),\n",
       "             param_grid={'gradientboostingclassifier__learning_rate': array([0.01, 0.1 , 1.  ]),\n",
       "                         'gradientboostingclassifier__n_estimators': [5, 10, 50,\n",
       "                                                                      100, 200,\n",
       "                                                                      500]},\n",
       "             return_train_score=True)"
      ]
     },
     "execution_count": 64,
     "metadata": {},
     "output_type": "execute_result"
    }
   ],
   "source": [
    "grid2 = GridSearchCV(pipe_gb, param_grid, cv = 5, return_train_score = True)\n",
    "grid2.fit(X_train_val, y_train_val)"
   ]
  },
  {
   "cell_type": "code",
   "execution_count": 65,
   "metadata": {},
   "outputs": [
    {
     "name": "stdout",
     "output_type": "stream",
     "text": [
      "Accuracy score is 0.641\n",
      "The best accracy is when  {'gradientboostingclassifier__learning_rate': 0.1, 'gradientboostingclassifier__n_estimators': 50}\n"
     ]
    }
   ],
   "source": [
    "print('Accuracy score is {:.3f}'.format(grid2.best_score_))\n",
    "print('The best accracy is when ',grid2.best_params_ )"
   ]
  },
  {
   "cell_type": "code",
   "execution_count": 66,
   "metadata": {},
   "outputs": [
    {
     "data": {
      "text/plain": [
       "[<matplotlib.lines.Line2D at 0x22244da9590>]"
      ]
     },
     "execution_count": 66,
     "metadata": {},
     "output_type": "execute_result"
    },
    {
     "data": {
      "text/plain": [
       "[<matplotlib.lines.Line2D at 0x2223ad70350>]"
      ]
     },
     "execution_count": 66,
     "metadata": {},
     "output_type": "execute_result"
    },
    {
     "data": {
      "text/plain": [
       "Text(0.5, 0, 'Recall')"
      ]
     },
     "execution_count": 66,
     "metadata": {},
     "output_type": "execute_result"
    },
    {
     "data": {
      "text/plain": [
       "Text(0, 0.5, 'Precision')"
      ]
     },
     "execution_count": 66,
     "metadata": {},
     "output_type": "execute_result"
    },
    {
     "data": {
      "text/plain": [
       "Text(0.5, 1.0, 'Precision-Recall Curve with Threshold Point')"
      ]
     },
     "execution_count": 66,
     "metadata": {},
     "output_type": "execute_result"
    },
    {
     "data": {
      "text/plain": [
       "<matplotlib.legend.Legend at 0x2224e341ed0>"
      ]
     },
     "execution_count": 66,
     "metadata": {},
     "output_type": "execute_result"
    },
    {
     "data": {
      "image/png": "[encoded data removed]",
      "text/plain": [
       "<Figure size 640x480 with 1 Axes>"
      ]
     },
     "metadata": {},
     "output_type": "display_data"
    }
   ],
   "source": [
    "# Assuming you have the true labels (y_test) and predicted probabilities for the positive class (grid.predict_proba(X_test)[:, 1])\n",
    "precision, recall, thresholds = precision_recall_curve(y_test, grid2.predict_proba(X_test)[:, 1])\n",
    "\n",
    "# Calculate precision and recall at a specific threshold (e.g., threshold zero)\n",
    "threshold_zero = 0  # Adjust this threshold as needed\n",
    "precision_at_zero, recall_at_zero, _, _ = precision_recall_fscore_support(y_test, grid2.predict(X_test) > threshold_zero, average='binary')\n",
    "\n",
    "# Plot the precision-recall curve\n",
    "plt.plot(recall, precision, label='Precision-Recall Curve')\n",
    "\n",
    "# Plot a point at the specific threshold\n",
    "plt.plot(recall_at_zero, precision_at_zero, 'o', markersize=10, label=f'Threshold {threshold_zero}', fillstyle=\"none\", c='k', mew=2)\n",
    "\n",
    "plt.xlabel('Recall')\n",
    "plt.ylabel('Precision')\n",
    "plt.title('Precision-Recall Curve with Threshold Point')\n",
    "plt.legend()\n",
    "plt.show()"
   ]
  },
  {
   "cell_type": "code",
   "execution_count": 67,
   "metadata": {},
   "outputs": [
    {
     "data": {
      "text/plain": [
       "[<matplotlib.lines.Line2D at 0x2224ce40d10>]"
      ]
     },
     "execution_count": 67,
     "metadata": {},
     "output_type": "execute_result"
    },
    {
     "data": {
      "text/plain": [
       "[<matplotlib.lines.Line2D at 0x2224cdf1610>]"
      ]
     },
     "execution_count": 67,
     "metadata": {},
     "output_type": "execute_result"
    },
    {
     "data": {
      "text/plain": [
       "Text(0.5, 0, 'False Positive Rate')"
      ]
     },
     "execution_count": 67,
     "metadata": {},
     "output_type": "execute_result"
    },
    {
     "data": {
      "text/plain": [
       "Text(0, 0.5, 'True Positive Rate')"
      ]
     },
     "execution_count": 67,
     "metadata": {},
     "output_type": "execute_result"
    },
    {
     "data": {
      "text/plain": [
       "Text(0.5, 1.0, 'ROC Curve with Threshold Point')"
      ]
     },
     "execution_count": 67,
     "metadata": {},
     "output_type": "execute_result"
    },
    {
     "data": {
      "text/plain": [
       "<matplotlib.legend.Legend at 0x2224ce08d90>"
      ]
     },
     "execution_count": 67,
     "metadata": {},
     "output_type": "execute_result"
    },
    {
     "data": {
      "image/png": "[encoded data removed]",
      "text/plain": [
       "<Figure size 640x480 with 1 Axes>"
      ]
     },
     "metadata": {},
     "output_type": "display_data"
    }
   ],
   "source": [
    "# Assuming you have the true labels (y_test) and predicted probabilities for the positive class (grid.predict_proba(X_test)[:, 1])\n",
    "fpr, tpr, thresholds = roc_curve(y_test, grid2.predict_proba(X_test)[:, 1])\n",
    "\n",
    "# Calculate ROC-AUC score\n",
    "roc_auc = roc_auc_score(y_test, grid2.predict_proba(X_test)[:, 1])\n",
    "\n",
    "confusion_mlp = confusion_matrix(y_test, grid2.predict(X_test), normalize='true')\n",
    "\n",
    "# Plot the ROC curve\n",
    "plt.plot(fpr, tpr, label=f'ROC Curve (AUC = {roc_auc:.2f})')\n",
    "\n",
    "plt.plot(confusion_mlp[0, 1], confusion_mlp[1, 1], 'o', markersize=10,\n",
    "         label=\"threshold zero gb\", fillstyle=\"none\", c='k', mew=2)\n",
    "\n",
    "plt.xlabel('False Positive Rate')\n",
    "plt.ylabel('True Positive Rate')\n",
    "plt.title('ROC Curve with Threshold Point')\n",
    "plt.legend()\n",
    "plt.show()"
   ]
  },
  {
   "cell_type": "markdown",
   "metadata": {},
   "source": [
    "### Quantifying the cost of mistakes \n",
    " \n",
    "Every mistake the model makes costs money. In this section, we will try and quantify the cost \n",
    "each mistake made by the model. Assume the following: \n",
    "False negatives: Loans that were actually safe but were predicted to be risky. This results in an \n",
    "opportunity cost of losing a loan that would have otherwise been accepted. \n",
    "False positives: Loans that were actually risky but were predicted to be safe. These are much \n",
    "more expensive because it results in a risky loan being given. \n",
    "Correct predictions: All correct predictions don't typically incur any cost. \n",
    " \n",
    "Let's write code that can compute the cost of mistakes made by the model. Complete the \n",
    "following 4 steps: \n",
    "First, let us compute the predictions made by the model. \n",
    "Second, compute the number of false positives. \n",
    "Third, compute the number of false negatives. \n",
    "Finally, compute the cost of mistakes made by the model by adding up the costs of true positives \n",
    "and false positives. \n",
    " \n",
    "Let's assume that each mistake costs us money: a false negative costs $10,000, while a false \n",
    "positive costs $20,000. What is the total cost of mistakes made by MODEL1 and MODEL2 on \n",
    "the test data?"
   ]
  },
  {
   "cell_type": "code",
   "execution_count": 68,
   "metadata": {},
   "outputs": [
    {
     "data": {
      "text/plain": [
       "array([[1473,  864],\n",
       "       [ 849, 1444]], dtype=int64)"
      ]
     },
     "execution_count": 68,
     "metadata": {},
     "output_type": "execute_result"
    }
   ],
   "source": [
    "cf_mat = confusion_matrix(y_test, grid.predict(X_test))\n",
    "cf_mat"
   ]
  },
  {
   "cell_type": "code",
   "execution_count": 69,
   "metadata": {},
   "outputs": [
    {
     "data": {
      "text/plain": [
       "2337"
      ]
     },
     "execution_count": 69,
     "metadata": {},
     "output_type": "execute_result"
    }
   ],
   "source": [
    "true_pos = cf_mat[0,0]\n",
    "true_neg = cf_mat[1,1]\n",
    "fal_pos = cf_mat[0,1]\n",
    "fal_neg = cf_mat[1,0]\n",
    "\n",
    "cost_mistakes = true_pos +fal_pos\n",
    "cost_mistakes"
   ]
  },
  {
   "cell_type": "code",
   "execution_count": 70,
   "metadata": {},
   "outputs": [
    {
     "name": "stdout",
     "output_type": "stream",
     "text": [
      "Model1 total cost of mistakes: 25770000\n"
     ]
    }
   ],
   "source": [
    "model1_mistakes = (10000 * fal_neg) + (20000 * fal_pos)\n",
    "print('Model1 total cost of mistakes:',model1_mistakes)"
   ]
  },
  {
   "cell_type": "code",
   "execution_count": 71,
   "metadata": {},
   "outputs": [
    {
     "data": {
      "text/plain": [
       "array([[1475,  862],\n",
       "       [ 832, 1461]], dtype=int64)"
      ]
     },
     "execution_count": 71,
     "metadata": {},
     "output_type": "execute_result"
    }
   ],
   "source": [
    "cf_mat = confusion_matrix(y_test, grid2.predict(X_test))\n",
    "cf_mat"
   ]
  },
  {
   "cell_type": "code",
   "execution_count": 72,
   "metadata": {},
   "outputs": [
    {
     "data": {
      "text/plain": [
       "2337"
      ]
     },
     "execution_count": 72,
     "metadata": {},
     "output_type": "execute_result"
    }
   ],
   "source": [
    "true_pos = cf_mat[0,0]\n",
    "true_neg = cf_mat[1,1]\n",
    "fal_pos = cf_mat[0,1]\n",
    "fal_neg = cf_mat[1,0]\n",
    "\n",
    "cost_mistakes = true_pos +fal_pos\n",
    "cost_mistakes"
   ]
  },
  {
   "cell_type": "code",
   "execution_count": 73,
   "metadata": {},
   "outputs": [
    {
     "name": "stdout",
     "output_type": "stream",
     "text": [
      "Model2 total cost of mistakes: 25560000\n"
     ]
    }
   ],
   "source": [
    "model2_mistakes = (10000 * fal_neg) + (20000 * fal_pos)\n",
    "print('Model2 total cost of mistakes:',model2_mistakes)"
   ]
  },
  {
   "cell_type": "markdown",
   "metadata": {},
   "source": [
    "The total cost of mistakes for model 2 is smaller than model 1."
   ]
  },
  {
   "cell_type": "markdown",
   "metadata": {},
   "source": [
    "### Optional Question \n",
    " \n",
    "Can you find another MLP classifier that generates a lower total cost of mistakes?  \n"
   ]
  },
  {
   "cell_type": "code",
   "execution_count": 80,
   "metadata": {},
   "outputs": [],
   "source": [
    "pipe = make_pipeline(preprocessor, MLPClassifier(random_state = 0, max_iter = 1500))\n",
    "param_grid = {'mlpclassifier__hidden_layer_sizes': [(10,), (50,), (100,), (10, 10), (50, 50)], \n",
    "             'mlpclassifier__alpha': [0.001, 0.01, 1, 5]}\n",
    "\n",
    "grid3 = GridSearchCV(pipe, param_grid, cv=5, return_train_score=True)"
   ]
  },
  {
   "cell_type": "code",
   "execution_count": 81,
   "metadata": {},
   "outputs": [
    {
     "data": {
      "text/html": [
       "<style>#sk-container-id-5 {color: black;}#sk-container-id-5 pre{padding: 0;}#sk-container-id-5 div.sk-toggleable {background-color: white;}#sk-container-id-5 label.sk-toggleable__label {cursor: pointer;display: block;width: 100%;margin-bottom: 0;padding: 0.3em;box-sizing: border-box;text-align: center;}#sk-container-id-5 label.sk-toggleable__label-arrow:before {content: \"▸\";float: left;margin-right: 0.25em;color: #696969;}#sk-container-id-5 label.sk-toggleable__label-arrow:hover:before {color: black;}#sk-container-id-5 div.sk-estimator:hover label.sk-toggleable__label-arrow:before {color: black;}#sk-container-id-5 div.sk-toggleable__content {max-height: 0;max-width: 0;overflow: hidden;text-align: left;background-color: #f0f8ff;}#sk-container-id-5 div.sk-toggleable__content pre {margin: 0.2em;color: black;border-radius: 0.25em;background-color: #f0f8ff;}#sk-container-id-5 input.sk-toggleable__control:checked~div.sk-toggleable__content {max-height: 200px;max-width: 100%;overflow: auto;}#sk-container-id-5 input.sk-toggleable__control:checked~label.sk-toggleable__label-arrow:before {content: \"▾\";}#sk-container-id-5 div.sk-estimator input.sk-toggleable__control:checked~label.sk-toggleable__label {background-color: #d4ebff;}#sk-container-id-5 div.sk-label input.sk-toggleable__control:checked~label.sk-toggleable__label {background-color: #d4ebff;}#sk-container-id-5 input.sk-hidden--visually {border: 0;clip: rect(1px 1px 1px 1px);clip: rect(1px, 1px, 1px, 1px);height: 1px;margin: -1px;overflow: hidden;padding: 0;position: absolute;width: 1px;}#sk-container-id-5 div.sk-estimator {font-family: monospace;background-color: #f0f8ff;border: 1px dotted black;border-radius: 0.25em;box-sizing: border-box;margin-bottom: 0.5em;}#sk-container-id-5 div.sk-estimator:hover {background-color: #d4ebff;}#sk-container-id-5 div.sk-parallel-item::after {content: \"\";width: 100%;border-bottom: 1px solid gray;flex-grow: 1;}#sk-container-id-5 div.sk-label:hover label.sk-toggleable__label {background-color: #d4ebff;}#sk-container-id-5 div.sk-serial::before {content: \"\";position: absolute;border-left: 1px solid gray;box-sizing: border-box;top: 0;bottom: 0;left: 50%;z-index: 0;}#sk-container-id-5 div.sk-serial {display: flex;flex-direction: column;align-items: center;background-color: white;padding-right: 0.2em;padding-left: 0.2em;position: relative;}#sk-container-id-5 div.sk-item {position: relative;z-index: 1;}#sk-container-id-5 div.sk-parallel {display: flex;align-items: stretch;justify-content: center;background-color: white;position: relative;}#sk-container-id-5 div.sk-item::before, #sk-container-id-5 div.sk-parallel-item::before {content: \"\";position: absolute;border-left: 1px solid gray;box-sizing: border-box;top: 0;bottom: 0;left: 50%;z-index: -1;}#sk-container-id-5 div.sk-parallel-item {display: flex;flex-direction: column;z-index: 1;position: relative;background-color: white;}#sk-container-id-5 div.sk-parallel-item:first-child::after {align-self: flex-end;width: 50%;}#sk-container-id-5 div.sk-parallel-item:last-child::after {align-self: flex-start;width: 50%;}#sk-container-id-5 div.sk-parallel-item:only-child::after {width: 0;}#sk-container-id-5 div.sk-dashed-wrapped {border: 1px dashed gray;margin: 0 0.4em 0.5em 0.4em;box-sizing: border-box;padding-bottom: 0.4em;background-color: white;}#sk-container-id-5 div.sk-label label {font-family: monospace;font-weight: bold;display: inline-block;line-height: 1.2em;}#sk-container-id-5 div.sk-label-container {text-align: center;}#sk-container-id-5 div.sk-container {/* jupyter's `normalize.less` sets `[hidden] { display: none; }` but bootstrap.min.css set `[hidden] { display: none !important; }` so we also need the `!important` here to be able to override the default hidden behavior on the sphinx rendered scikit-learn.org. See: https://github.com/scikit-learn/scikit-learn/issues/21755 */display: inline-block !important;position: relative;}#sk-container-id-5 div.sk-text-repr-fallback {display: none;}</style><div id=\"sk-container-id-5\" class=\"sk-top-container\"><div class=\"sk-text-repr-fallback\"><pre>GridSearchCV(cv=5,\n",
       "             estimator=Pipeline(steps=[(&#x27;columntransformer&#x27;,\n",
       "                                        ColumnTransformer(transformers=[(&#x27;pipeline-1&#x27;,\n",
       "                                                                         Pipeline(steps=[(&#x27;simpleimputer&#x27;,\n",
       "                                                                                          SimpleImputer(strategy=&#x27;constant&#x27;)),\n",
       "                                                                                         (&#x27;onehotencoder&#x27;,\n",
       "                                                                                          OneHotEncoder(handle_unknown=&#x27;ignore&#x27;))]),\n",
       "                                                                         [&#x27;grade&#x27;,\n",
       "                                                                          &#x27;sub_grade&#x27;,\n",
       "                                                                          &#x27;home_ownership&#x27;,\n",
       "                                                                          &#x27;purpose&#x27;,\n",
       "                                                                          &#x27;term&#x27;]),\n",
       "                                                                        (&#x27;pipeline-2&#x27;,\n",
       "                                                                         Pipeline(steps=[(&#x27;standardscaler&#x27;,\n",
       "                                                                                          StandardScaler()),\n",
       "                                                                                         (&#x27;simpleimputer&#x27;,\n",
       "                                                                                          SimpleImputer())]),\n",
       "                                                                         [&#x27;emp_length_num&#x27;,\n",
       "                                                                          &#x27;dti&#x27;,\n",
       "                                                                          &#x27;revol_util&#x27;,\n",
       "                                                                          &#x27;total_rec_late_fee&#x27;])])),\n",
       "                                       (&#x27;mlpclassifier&#x27;,\n",
       "                                        MLPClassifier(max_iter=1500,\n",
       "                                                      random_state=0))]),\n",
       "             param_grid={&#x27;mlpclassifier__alpha&#x27;: [0.001, 0.01, 1, 5],\n",
       "                         &#x27;mlpclassifier__hidden_layer_sizes&#x27;: [(10,), (50,),\n",
       "                                                               (100,), (10, 10),\n",
       "                                                               (50, 50)]},\n",
       "             return_train_score=True)</pre><b>In a Jupyter environment, please rerun this cell to show the HTML representation or trust the notebook. <br />On GitHub, the HTML representation is unable to render, please try loading this page with nbviewer.org.</b></div><div class=\"sk-container\" hidden><div class=\"sk-item sk-dashed-wrapped\"><div class=\"sk-label-container\"><div class=\"sk-label sk-toggleable\"><input class=\"sk-toggleable__control sk-hidden--visually\" id=\"sk-estimator-id-41\" type=\"checkbox\" ><label for=\"sk-estimator-id-41\" class=\"sk-toggleable__label sk-toggleable__label-arrow\">GridSearchCV</label><div class=\"sk-toggleable__content\"><pre>GridSearchCV(cv=5,\n",
       "             estimator=Pipeline(steps=[(&#x27;columntransformer&#x27;,\n",
       "                                        ColumnTransformer(transformers=[(&#x27;pipeline-1&#x27;,\n",
       "                                                                         Pipeline(steps=[(&#x27;simpleimputer&#x27;,\n",
       "                                                                                          SimpleImputer(strategy=&#x27;constant&#x27;)),\n",
       "                                                                                         (&#x27;onehotencoder&#x27;,\n",
       "                                                                                          OneHotEncoder(handle_unknown=&#x27;ignore&#x27;))]),\n",
       "                                                                         [&#x27;grade&#x27;,\n",
       "                                                                          &#x27;sub_grade&#x27;,\n",
       "                                                                          &#x27;home_ownership&#x27;,\n",
       "                                                                          &#x27;purpose&#x27;,\n",
       "                                                                          &#x27;term&#x27;]),\n",
       "                                                                        (&#x27;pipeline-2&#x27;,\n",
       "                                                                         Pipeline(steps=[(&#x27;standardscaler&#x27;,\n",
       "                                                                                          StandardScaler()),\n",
       "                                                                                         (&#x27;simpleimputer&#x27;,\n",
       "                                                                                          SimpleImputer())]),\n",
       "                                                                         [&#x27;emp_length_num&#x27;,\n",
       "                                                                          &#x27;dti&#x27;,\n",
       "                                                                          &#x27;revol_util&#x27;,\n",
       "                                                                          &#x27;total_rec_late_fee&#x27;])])),\n",
       "                                       (&#x27;mlpclassifier&#x27;,\n",
       "                                        MLPClassifier(max_iter=1500,\n",
       "                                                      random_state=0))]),\n",
       "             param_grid={&#x27;mlpclassifier__alpha&#x27;: [0.001, 0.01, 1, 5],\n",
       "                         &#x27;mlpclassifier__hidden_layer_sizes&#x27;: [(10,), (50,),\n",
       "                                                               (100,), (10, 10),\n",
       "                                                               (50, 50)]},\n",
       "             return_train_score=True)</pre></div></div></div><div class=\"sk-parallel\"><div class=\"sk-parallel-item\"><div class=\"sk-item\"><div class=\"sk-label-container\"><div class=\"sk-label sk-toggleable\"><input class=\"sk-toggleable__control sk-hidden--visually\" id=\"sk-estimator-id-42\" type=\"checkbox\" ><label for=\"sk-estimator-id-42\" class=\"sk-toggleable__label sk-toggleable__label-arrow\">estimator: Pipeline</label><div class=\"sk-toggleable__content\"><pre>Pipeline(steps=[(&#x27;columntransformer&#x27;,\n",
       "                 ColumnTransformer(transformers=[(&#x27;pipeline-1&#x27;,\n",
       "                                                  Pipeline(steps=[(&#x27;simpleimputer&#x27;,\n",
       "                                                                   SimpleImputer(strategy=&#x27;constant&#x27;)),\n",
       "                                                                  (&#x27;onehotencoder&#x27;,\n",
       "                                                                   OneHotEncoder(handle_unknown=&#x27;ignore&#x27;))]),\n",
       "                                                  [&#x27;grade&#x27;, &#x27;sub_grade&#x27;,\n",
       "                                                   &#x27;home_ownership&#x27;, &#x27;purpose&#x27;,\n",
       "                                                   &#x27;term&#x27;]),\n",
       "                                                 (&#x27;pipeline-2&#x27;,\n",
       "                                                  Pipeline(steps=[(&#x27;standardscaler&#x27;,\n",
       "                                                                   StandardScaler()),\n",
       "                                                                  (&#x27;simpleimputer&#x27;,\n",
       "                                                                   SimpleImputer())]),\n",
       "                                                  [&#x27;emp_length_num&#x27;, &#x27;dti&#x27;,\n",
       "                                                   &#x27;revol_util&#x27;,\n",
       "                                                   &#x27;total_rec_late_fee&#x27;])])),\n",
       "                (&#x27;mlpclassifier&#x27;,\n",
       "                 MLPClassifier(max_iter=1500, random_state=0))])</pre></div></div></div><div class=\"sk-serial\"><div class=\"sk-item\"><div class=\"sk-serial\"><div class=\"sk-item sk-dashed-wrapped\"><div class=\"sk-label-container\"><div class=\"sk-label sk-toggleable\"><input class=\"sk-toggleable__control sk-hidden--visually\" id=\"sk-estimator-id-43\" type=\"checkbox\" ><label for=\"sk-estimator-id-43\" class=\"sk-toggleable__label sk-toggleable__label-arrow\">columntransformer: ColumnTransformer</label><div class=\"sk-toggleable__content\"><pre>ColumnTransformer(transformers=[(&#x27;pipeline-1&#x27;,\n",
       "                                 Pipeline(steps=[(&#x27;simpleimputer&#x27;,\n",
       "                                                  SimpleImputer(strategy=&#x27;constant&#x27;)),\n",
       "                                                 (&#x27;onehotencoder&#x27;,\n",
       "                                                  OneHotEncoder(handle_unknown=&#x27;ignore&#x27;))]),\n",
       "                                 [&#x27;grade&#x27;, &#x27;sub_grade&#x27;, &#x27;home_ownership&#x27;,\n",
       "                                  &#x27;purpose&#x27;, &#x27;term&#x27;]),\n",
       "                                (&#x27;pipeline-2&#x27;,\n",
       "                                 Pipeline(steps=[(&#x27;standardscaler&#x27;,\n",
       "                                                  StandardScaler()),\n",
       "                                                 (&#x27;simpleimputer&#x27;,\n",
       "                                                  SimpleImputer())]),\n",
       "                                 [&#x27;emp_length_num&#x27;, &#x27;dti&#x27;, &#x27;revol_util&#x27;,\n",
       "                                  &#x27;total_rec_late_fee&#x27;])])</pre></div></div></div><div class=\"sk-parallel\"><div class=\"sk-parallel-item\"><div class=\"sk-item\"><div class=\"sk-label-container\"><div class=\"sk-label sk-toggleable\"><input class=\"sk-toggleable__control sk-hidden--visually\" id=\"sk-estimator-id-44\" type=\"checkbox\" ><label for=\"sk-estimator-id-44\" class=\"sk-toggleable__label sk-toggleable__label-arrow\">pipeline-1</label><div class=\"sk-toggleable__content\"><pre>[&#x27;grade&#x27;, &#x27;sub_grade&#x27;, &#x27;home_ownership&#x27;, &#x27;purpose&#x27;, &#x27;term&#x27;]</pre></div></div></div><div class=\"sk-serial\"><div class=\"sk-item\"><div class=\"sk-serial\"><div class=\"sk-item\"><div class=\"sk-estimator sk-toggleable\"><input class=\"sk-toggleable__control sk-hidden--visually\" id=\"sk-estimator-id-45\" type=\"checkbox\" ><label for=\"sk-estimator-id-45\" class=\"sk-toggleable__label sk-toggleable__label-arrow\">SimpleImputer</label><div class=\"sk-toggleable__content\"><pre>SimpleImputer(strategy=&#x27;constant&#x27;)</pre></div></div></div><div class=\"sk-item\"><div class=\"sk-estimator sk-toggleable\"><input class=\"sk-toggleable__control sk-hidden--visually\" id=\"sk-estimator-id-46\" type=\"checkbox\" ><label for=\"sk-estimator-id-46\" class=\"sk-toggleable__label sk-toggleable__label-arrow\">OneHotEncoder</label><div class=\"sk-toggleable__content\"><pre>OneHotEncoder(handle_unknown=&#x27;ignore&#x27;)</pre></div></div></div></div></div></div></div></div><div class=\"sk-parallel-item\"><div class=\"sk-item\"><div class=\"sk-label-container\"><div class=\"sk-label sk-toggleable\"><input class=\"sk-toggleable__control sk-hidden--visually\" id=\"sk-estimator-id-47\" type=\"checkbox\" ><label for=\"sk-estimator-id-47\" class=\"sk-toggleable__label sk-toggleable__label-arrow\">pipeline-2</label><div class=\"sk-toggleable__content\"><pre>[&#x27;emp_length_num&#x27;, &#x27;dti&#x27;, &#x27;revol_util&#x27;, &#x27;total_rec_late_fee&#x27;]</pre></div></div></div><div class=\"sk-serial\"><div class=\"sk-item\"><div class=\"sk-serial\"><div class=\"sk-item\"><div class=\"sk-estimator sk-toggleable\"><input class=\"sk-toggleable__control sk-hidden--visually\" id=\"sk-estimator-id-48\" type=\"checkbox\" ><label for=\"sk-estimator-id-48\" class=\"sk-toggleable__label sk-toggleable__label-arrow\">StandardScaler</label><div class=\"sk-toggleable__content\"><pre>StandardScaler()</pre></div></div></div><div class=\"sk-item\"><div class=\"sk-estimator sk-toggleable\"><input class=\"sk-toggleable__control sk-hidden--visually\" id=\"sk-estimator-id-49\" type=\"checkbox\" ><label for=\"sk-estimator-id-49\" class=\"sk-toggleable__label sk-toggleable__label-arrow\">SimpleImputer</label><div class=\"sk-toggleable__content\"><pre>SimpleImputer()</pre></div></div></div></div></div></div></div></div></div></div><div class=\"sk-item\"><div class=\"sk-estimator sk-toggleable\"><input class=\"sk-toggleable__control sk-hidden--visually\" id=\"sk-estimator-id-50\" type=\"checkbox\" ><label for=\"sk-estimator-id-50\" class=\"sk-toggleable__label sk-toggleable__label-arrow\">MLPClassifier</label><div class=\"sk-toggleable__content\"><pre>MLPClassifier(max_iter=1500, random_state=0)</pre></div></div></div></div></div></div></div></div></div></div></div></div>"
      ],
      "text/plain": [
       "GridSearchCV(cv=5,\n",
       "             estimator=Pipeline(steps=[('columntransformer',\n",
       "                                        ColumnTransformer(transformers=[('pipeline-1',\n",
       "                                                                         Pipeline(steps=[('simpleimputer',\n",
       "                                                                                          SimpleImputer(strategy='constant')),\n",
       "                                                                                         ('onehotencoder',\n",
       "                                                                                          OneHotEncoder(handle_unknown='ignore'))]),\n",
       "                                                                         ['grade',\n",
       "                                                                          'sub_grade',\n",
       "                                                                          'home_ownership',\n",
       "                                                                          'purpose',\n",
       "                                                                          'term']),\n",
       "                                                                        ('pipeline-2',\n",
       "                                                                         Pipeline(steps=[('standardscaler',\n",
       "                                                                                          StandardScaler()),\n",
       "                                                                                         ('simpleimputer',\n",
       "                                                                                          SimpleImputer())]),\n",
       "                                                                         ['emp_length_num',\n",
       "                                                                          'dti',\n",
       "                                                                          'revol_util',\n",
       "                                                                          'total_rec_late_fee'])])),\n",
       "                                       ('mlpclassifier',\n",
       "                                        MLPClassifier(max_iter=1500,\n",
       "                                                      random_state=0))]),\n",
       "             param_grid={'mlpclassifier__alpha': [0.001, 0.01, 1, 5],\n",
       "                         'mlpclassifier__hidden_layer_sizes': [(10,), (50,),\n",
       "                                                               (100,), (10, 10),\n",
       "                                                               (50, 50)]},\n",
       "             return_train_score=True)"
      ]
     },
     "execution_count": 81,
     "metadata": {},
     "output_type": "execute_result"
    },
    {
     "data": {
      "text/html": [
       "<div>\n",
       "<style scoped>\n",
       "    .dataframe tbody tr th:only-of-type {\n",
       "        vertical-align: middle;\n",
       "    }\n",
       "\n",
       "    .dataframe tbody tr th {\n",
       "        vertical-align: top;\n",
       "    }\n",
       "\n",
       "    .dataframe thead th {\n",
       "        text-align: right;\n",
       "    }\n",
       "</style>\n",
       "<table border=\"1\" class=\"dataframe\">\n",
       "  <thead>\n",
       "    <tr style=\"text-align: right;\">\n",
       "      <th></th>\n",
       "      <th>mean_fit_time</th>\n",
       "      <th>std_fit_time</th>\n",
       "      <th>mean_score_time</th>\n",
       "      <th>std_score_time</th>\n",
       "      <th>param_mlpclassifier__alpha</th>\n",
       "      <th>param_mlpclassifier__hidden_layer_sizes</th>\n",
       "      <th>params</th>\n",
       "      <th>split0_test_score</th>\n",
       "      <th>split1_test_score</th>\n",
       "      <th>split2_test_score</th>\n",
       "      <th>...</th>\n",
       "      <th>mean_test_score</th>\n",
       "      <th>std_test_score</th>\n",
       "      <th>rank_test_score</th>\n",
       "      <th>split0_train_score</th>\n",
       "      <th>split1_train_score</th>\n",
       "      <th>split2_train_score</th>\n",
       "      <th>split3_train_score</th>\n",
       "      <th>split4_train_score</th>\n",
       "      <th>mean_train_score</th>\n",
       "      <th>std_train_score</th>\n",
       "    </tr>\n",
       "  </thead>\n",
       "  <tbody>\n",
       "    <tr>\n",
       "      <th>0</th>\n",
       "      <td>3.719058</td>\n",
       "      <td>0.752108</td>\n",
       "      <td>0.012603</td>\n",
       "      <td>0.000800</td>\n",
       "      <td>0.001</td>\n",
       "      <td>(10,)</td>\n",
       "      <td>{'mlpclassifier__alpha': 0.001, 'mlpclassifier...</td>\n",
       "      <td>0.638349</td>\n",
       "      <td>0.637509</td>\n",
       "      <td>0.639309</td>\n",
       "      <td>...</td>\n",
       "      <td>0.638925</td>\n",
       "      <td>0.001651</td>\n",
       "      <td>7</td>\n",
       "      <td>0.650108</td>\n",
       "      <td>0.649268</td>\n",
       "      <td>0.646928</td>\n",
       "      <td>0.649898</td>\n",
       "      <td>0.647978</td>\n",
       "      <td>0.648836</td>\n",
       "      <td>0.001209</td>\n",
       "    </tr>\n",
       "    <tr>\n",
       "      <th>1</th>\n",
       "      <td>19.779214</td>\n",
       "      <td>1.937030</td>\n",
       "      <td>0.014204</td>\n",
       "      <td>0.000400</td>\n",
       "      <td>0.001</td>\n",
       "      <td>(50,)</td>\n",
       "      <td>{'mlpclassifier__alpha': 0.001, 'mlpclassifier...</td>\n",
       "      <td>0.616511</td>\n",
       "      <td>0.613871</td>\n",
       "      <td>0.619750</td>\n",
       "      <td>...</td>\n",
       "      <td>0.617423</td>\n",
       "      <td>0.002060</td>\n",
       "      <td>16</td>\n",
       "      <td>0.684935</td>\n",
       "      <td>0.683315</td>\n",
       "      <td>0.680286</td>\n",
       "      <td>0.682415</td>\n",
       "      <td>0.682415</td>\n",
       "      <td>0.682673</td>\n",
       "      <td>0.001507</td>\n",
       "    </tr>\n",
       "    <tr>\n",
       "      <th>2</th>\n",
       "      <td>35.610880</td>\n",
       "      <td>5.211080</td>\n",
       "      <td>0.017603</td>\n",
       "      <td>0.001496</td>\n",
       "      <td>0.001</td>\n",
       "      <td>(100,)</td>\n",
       "      <td>{'mlpclassifier__alpha': 0.001, 'mlpclassifier...</td>\n",
       "      <td>0.615671</td>\n",
       "      <td>0.604512</td>\n",
       "      <td>0.609071</td>\n",
       "      <td>...</td>\n",
       "      <td>0.610079</td>\n",
       "      <td>0.003643</td>\n",
       "      <td>18</td>\n",
       "      <td>0.699904</td>\n",
       "      <td>0.715293</td>\n",
       "      <td>0.707823</td>\n",
       "      <td>0.712743</td>\n",
       "      <td>0.709443</td>\n",
       "      <td>0.709041</td>\n",
       "      <td>0.005252</td>\n",
       "    </tr>\n",
       "    <tr>\n",
       "      <th>3</th>\n",
       "      <td>11.832166</td>\n",
       "      <td>2.979837</td>\n",
       "      <td>0.016721</td>\n",
       "      <td>0.001670</td>\n",
       "      <td>0.001</td>\n",
       "      <td>(10, 10)</td>\n",
       "      <td>{'mlpclassifier__alpha': 0.001, 'mlpclassifier...</td>\n",
       "      <td>0.637389</td>\n",
       "      <td>0.639189</td>\n",
       "      <td>0.636189</td>\n",
       "      <td>...</td>\n",
       "      <td>0.636429</td>\n",
       "      <td>0.001745</td>\n",
       "      <td>13</td>\n",
       "      <td>0.653288</td>\n",
       "      <td>0.655898</td>\n",
       "      <td>0.650558</td>\n",
       "      <td>0.649778</td>\n",
       "      <td>0.654938</td>\n",
       "      <td>0.652892</td>\n",
       "      <td>0.002388</td>\n",
       "    </tr>\n",
       "    <tr>\n",
       "      <th>4</th>\n",
       "      <td>46.319090</td>\n",
       "      <td>6.021890</td>\n",
       "      <td>0.021005</td>\n",
       "      <td>0.002531</td>\n",
       "      <td>0.001</td>\n",
       "      <td>(50, 50)</td>\n",
       "      <td>{'mlpclassifier__alpha': 0.001, 'mlpclassifier...</td>\n",
       "      <td>0.594912</td>\n",
       "      <td>0.592513</td>\n",
       "      <td>0.597192</td>\n",
       "      <td>...</td>\n",
       "      <td>0.593449</td>\n",
       "      <td>0.002491</td>\n",
       "      <td>20</td>\n",
       "      <td>0.737161</td>\n",
       "      <td>0.735301</td>\n",
       "      <td>0.734431</td>\n",
       "      <td>0.741091</td>\n",
       "      <td>0.745650</td>\n",
       "      <td>0.738727</td>\n",
       "      <td>0.004151</td>\n",
       "    </tr>\n",
       "    <tr>\n",
       "      <th>5</th>\n",
       "      <td>3.799351</td>\n",
       "      <td>0.757430</td>\n",
       "      <td>0.014804</td>\n",
       "      <td>0.003311</td>\n",
       "      <td>0.01</td>\n",
       "      <td>(10,)</td>\n",
       "      <td>{'mlpclassifier__alpha': 0.01, 'mlpclassifier_...</td>\n",
       "      <td>0.640269</td>\n",
       "      <td>0.638589</td>\n",
       "      <td>0.640269</td>\n",
       "      <td>...</td>\n",
       "      <td>0.639621</td>\n",
       "      <td>0.001467</td>\n",
       "      <td>5</td>\n",
       "      <td>0.648188</td>\n",
       "      <td>0.647558</td>\n",
       "      <td>0.646988</td>\n",
       "      <td>0.649178</td>\n",
       "      <td>0.648128</td>\n",
       "      <td>0.648008</td>\n",
       "      <td>0.000729</td>\n",
       "    </tr>\n",
       "    <tr>\n",
       "      <th>6</th>\n",
       "      <td>16.981433</td>\n",
       "      <td>0.867914</td>\n",
       "      <td>0.014197</td>\n",
       "      <td>0.000742</td>\n",
       "      <td>0.01</td>\n",
       "      <td>(50,)</td>\n",
       "      <td>{'mlpclassifier__alpha': 0.01, 'mlpclassifier_...</td>\n",
       "      <td>0.624670</td>\n",
       "      <td>0.624310</td>\n",
       "      <td>0.621070</td>\n",
       "      <td>...</td>\n",
       "      <td>0.622102</td>\n",
       "      <td>0.002320</td>\n",
       "      <td>15</td>\n",
       "      <td>0.678906</td>\n",
       "      <td>0.677736</td>\n",
       "      <td>0.679086</td>\n",
       "      <td>0.678636</td>\n",
       "      <td>0.672636</td>\n",
       "      <td>0.677400</td>\n",
       "      <td>0.002427</td>\n",
       "    </tr>\n",
       "    <tr>\n",
       "      <th>7</th>\n",
       "      <td>36.639405</td>\n",
       "      <td>5.340278</td>\n",
       "      <td>0.020194</td>\n",
       "      <td>0.001595</td>\n",
       "      <td>0.01</td>\n",
       "      <td>(100,)</td>\n",
       "      <td>{'mlpclassifier__alpha': 0.01, 'mlpclassifier_...</td>\n",
       "      <td>0.619270</td>\n",
       "      <td>0.606431</td>\n",
       "      <td>0.609431</td>\n",
       "      <td>...</td>\n",
       "      <td>0.612815</td>\n",
       "      <td>0.004522</td>\n",
       "      <td>17</td>\n",
       "      <td>0.697684</td>\n",
       "      <td>0.707253</td>\n",
       "      <td>0.702754</td>\n",
       "      <td>0.709473</td>\n",
       "      <td>0.705544</td>\n",
       "      <td>0.704542</td>\n",
       "      <td>0.004072</td>\n",
       "    </tr>\n",
       "    <tr>\n",
       "      <th>8</th>\n",
       "      <td>11.120789</td>\n",
       "      <td>2.452841</td>\n",
       "      <td>0.015921</td>\n",
       "      <td>0.003062</td>\n",
       "      <td>0.01</td>\n",
       "      <td>(10, 10)</td>\n",
       "      <td>{'mlpclassifier__alpha': 0.01, 'mlpclassifier_...</td>\n",
       "      <td>0.633909</td>\n",
       "      <td>0.637269</td>\n",
       "      <td>0.642909</td>\n",
       "      <td>...</td>\n",
       "      <td>0.638709</td>\n",
       "      <td>0.003063</td>\n",
       "      <td>8</td>\n",
       "      <td>0.652868</td>\n",
       "      <td>0.655328</td>\n",
       "      <td>0.649238</td>\n",
       "      <td>0.650798</td>\n",
       "      <td>0.654248</td>\n",
       "      <td>0.652496</td>\n",
       "      <td>0.002224</td>\n",
       "    </tr>\n",
       "    <tr>\n",
       "      <th>9</th>\n",
       "      <td>45.744540</td>\n",
       "      <td>3.825447</td>\n",
       "      <td>0.020469</td>\n",
       "      <td>0.002679</td>\n",
       "      <td>0.01</td>\n",
       "      <td>(50, 50)</td>\n",
       "      <td>{'mlpclassifier__alpha': 0.01, 'mlpclassifier_...</td>\n",
       "      <td>0.598032</td>\n",
       "      <td>0.594432</td>\n",
       "      <td>0.596592</td>\n",
       "      <td>...</td>\n",
       "      <td>0.597240</td>\n",
       "      <td>0.001805</td>\n",
       "      <td>19</td>\n",
       "      <td>0.736861</td>\n",
       "      <td>0.730142</td>\n",
       "      <td>0.736981</td>\n",
       "      <td>0.732091</td>\n",
       "      <td>0.730322</td>\n",
       "      <td>0.733279</td>\n",
       "      <td>0.003051</td>\n",
       "    </tr>\n",
       "    <tr>\n",
       "      <th>10</th>\n",
       "      <td>2.682487</td>\n",
       "      <td>0.396407</td>\n",
       "      <td>0.012804</td>\n",
       "      <td>0.000678</td>\n",
       "      <td>1</td>\n",
       "      <td>(10,)</td>\n",
       "      <td>{'mlpclassifier__alpha': 1, 'mlpclassifier__hi...</td>\n",
       "      <td>0.636669</td>\n",
       "      <td>0.633309</td>\n",
       "      <td>0.647588</td>\n",
       "      <td>...</td>\n",
       "      <td>0.640245</td>\n",
       "      <td>0.005009</td>\n",
       "      <td>4</td>\n",
       "      <td>0.643449</td>\n",
       "      <td>0.641439</td>\n",
       "      <td>0.641229</td>\n",
       "      <td>0.642279</td>\n",
       "      <td>0.640449</td>\n",
       "      <td>0.641769</td>\n",
       "      <td>0.001022</td>\n",
       "    </tr>\n",
       "    <tr>\n",
       "      <th>11</th>\n",
       "      <td>2.582944</td>\n",
       "      <td>0.034063</td>\n",
       "      <td>0.013603</td>\n",
       "      <td>0.000800</td>\n",
       "      <td>1</td>\n",
       "      <td>(50,)</td>\n",
       "      <td>{'mlpclassifier__alpha': 1, 'mlpclassifier__hi...</td>\n",
       "      <td>0.637629</td>\n",
       "      <td>0.636189</td>\n",
       "      <td>0.645308</td>\n",
       "      <td>...</td>\n",
       "      <td>0.641613</td>\n",
       "      <td>0.004113</td>\n",
       "      <td>1</td>\n",
       "      <td>0.643539</td>\n",
       "      <td>0.643089</td>\n",
       "      <td>0.640989</td>\n",
       "      <td>0.643239</td>\n",
       "      <td>0.641499</td>\n",
       "      <td>0.642471</td>\n",
       "      <td>0.001025</td>\n",
       "    </tr>\n",
       "    <tr>\n",
       "      <th>12</th>\n",
       "      <td>4.145278</td>\n",
       "      <td>1.000791</td>\n",
       "      <td>0.018722</td>\n",
       "      <td>0.002490</td>\n",
       "      <td>1</td>\n",
       "      <td>(100,)</td>\n",
       "      <td>{'mlpclassifier__alpha': 1, 'mlpclassifier__hi...</td>\n",
       "      <td>0.634389</td>\n",
       "      <td>0.635469</td>\n",
       "      <td>0.645188</td>\n",
       "      <td>...</td>\n",
       "      <td>0.639597</td>\n",
       "      <td>0.004335</td>\n",
       "      <td>6</td>\n",
       "      <td>0.642819</td>\n",
       "      <td>0.643239</td>\n",
       "      <td>0.640299</td>\n",
       "      <td>0.642339</td>\n",
       "      <td>0.640179</td>\n",
       "      <td>0.641775</td>\n",
       "      <td>0.001287</td>\n",
       "    </tr>\n",
       "    <tr>\n",
       "      <th>13</th>\n",
       "      <td>4.412702</td>\n",
       "      <td>0.369476</td>\n",
       "      <td>0.016670</td>\n",
       "      <td>0.002995</td>\n",
       "      <td>1</td>\n",
       "      <td>(10, 10)</td>\n",
       "      <td>{'mlpclassifier__alpha': 1, 'mlpclassifier__hi...</td>\n",
       "      <td>0.635949</td>\n",
       "      <td>0.639069</td>\n",
       "      <td>0.647108</td>\n",
       "      <td>...</td>\n",
       "      <td>0.641589</td>\n",
       "      <td>0.003873</td>\n",
       "      <td>2</td>\n",
       "      <td>0.643509</td>\n",
       "      <td>0.643359</td>\n",
       "      <td>0.641769</td>\n",
       "      <td>0.643419</td>\n",
       "      <td>0.641379</td>\n",
       "      <td>0.642687</td>\n",
       "      <td>0.000918</td>\n",
       "    </tr>\n",
       "    <tr>\n",
       "      <th>14</th>\n",
       "      <td>5.441483</td>\n",
       "      <td>0.486888</td>\n",
       "      <td>0.019451</td>\n",
       "      <td>0.002778</td>\n",
       "      <td>1</td>\n",
       "      <td>(50, 50)</td>\n",
       "      <td>{'mlpclassifier__alpha': 1, 'mlpclassifier__hi...</td>\n",
       "      <td>0.638109</td>\n",
       "      <td>0.635349</td>\n",
       "      <td>0.645428</td>\n",
       "      <td>...</td>\n",
       "      <td>0.640821</td>\n",
       "      <td>0.003746</td>\n",
       "      <td>3</td>\n",
       "      <td>0.644438</td>\n",
       "      <td>0.644498</td>\n",
       "      <td>0.642339</td>\n",
       "      <td>0.642759</td>\n",
       "      <td>0.641829</td>\n",
       "      <td>0.643173</td>\n",
       "      <td>0.001098</td>\n",
       "    </tr>\n",
       "    <tr>\n",
       "      <th>15</th>\n",
       "      <td>2.140833</td>\n",
       "      <td>0.048439</td>\n",
       "      <td>0.012803</td>\n",
       "      <td>0.001166</td>\n",
       "      <td>5</td>\n",
       "      <td>(10,)</td>\n",
       "      <td>{'mlpclassifier__alpha': 5, 'mlpclassifier__hi...</td>\n",
       "      <td>0.634509</td>\n",
       "      <td>0.633189</td>\n",
       "      <td>0.643868</td>\n",
       "      <td>...</td>\n",
       "      <td>0.638205</td>\n",
       "      <td>0.004187</td>\n",
       "      <td>10</td>\n",
       "      <td>0.639009</td>\n",
       "      <td>0.639939</td>\n",
       "      <td>0.636999</td>\n",
       "      <td>0.638859</td>\n",
       "      <td>0.636219</td>\n",
       "      <td>0.638205</td>\n",
       "      <td>0.001377</td>\n",
       "    </tr>\n",
       "    <tr>\n",
       "      <th>16</th>\n",
       "      <td>2.514919</td>\n",
       "      <td>0.018047</td>\n",
       "      <td>0.014003</td>\n",
       "      <td>0.000895</td>\n",
       "      <td>5</td>\n",
       "      <td>(50,)</td>\n",
       "      <td>{'mlpclassifier__alpha': 5, 'mlpclassifier__hi...</td>\n",
       "      <td>0.634989</td>\n",
       "      <td>0.632589</td>\n",
       "      <td>0.643749</td>\n",
       "      <td>...</td>\n",
       "      <td>0.638565</td>\n",
       "      <td>0.004446</td>\n",
       "      <td>9</td>\n",
       "      <td>0.639969</td>\n",
       "      <td>0.639369</td>\n",
       "      <td>0.637689</td>\n",
       "      <td>0.637749</td>\n",
       "      <td>0.636579</td>\n",
       "      <td>0.638271</td>\n",
       "      <td>0.001230</td>\n",
       "    </tr>\n",
       "    <tr>\n",
       "      <th>17</th>\n",
       "      <td>2.614677</td>\n",
       "      <td>0.273488</td>\n",
       "      <td>0.019092</td>\n",
       "      <td>0.002074</td>\n",
       "      <td>5</td>\n",
       "      <td>(100,)</td>\n",
       "      <td>{'mlpclassifier__alpha': 5, 'mlpclassifier__hi...</td>\n",
       "      <td>0.634509</td>\n",
       "      <td>0.630790</td>\n",
       "      <td>0.643749</td>\n",
       "      <td>...</td>\n",
       "      <td>0.637533</td>\n",
       "      <td>0.004624</td>\n",
       "      <td>12</td>\n",
       "      <td>0.637899</td>\n",
       "      <td>0.637539</td>\n",
       "      <td>0.635649</td>\n",
       "      <td>0.636819</td>\n",
       "      <td>0.636429</td>\n",
       "      <td>0.636867</td>\n",
       "      <td>0.000799</td>\n",
       "    </tr>\n",
       "    <tr>\n",
       "      <th>18</th>\n",
       "      <td>3.036661</td>\n",
       "      <td>0.537624</td>\n",
       "      <td>0.015006</td>\n",
       "      <td>0.002528</td>\n",
       "      <td>5</td>\n",
       "      <td>(10, 10)</td>\n",
       "      <td>{'mlpclassifier__alpha': 5, 'mlpclassifier__hi...</td>\n",
       "      <td>0.633789</td>\n",
       "      <td>0.632469</td>\n",
       "      <td>0.644708</td>\n",
       "      <td>...</td>\n",
       "      <td>0.638085</td>\n",
       "      <td>0.004920</td>\n",
       "      <td>11</td>\n",
       "      <td>0.638199</td>\n",
       "      <td>0.638979</td>\n",
       "      <td>0.636609</td>\n",
       "      <td>0.637719</td>\n",
       "      <td>0.637239</td>\n",
       "      <td>0.637749</td>\n",
       "      <td>0.000809</td>\n",
       "    </tr>\n",
       "    <tr>\n",
       "      <th>19</th>\n",
       "      <td>4.247056</td>\n",
       "      <td>1.013412</td>\n",
       "      <td>0.018294</td>\n",
       "      <td>0.000400</td>\n",
       "      <td>5</td>\n",
       "      <td>(50, 50)</td>\n",
       "      <td>{'mlpclassifier__alpha': 5, 'mlpclassifier__hi...</td>\n",
       "      <td>0.626830</td>\n",
       "      <td>0.630190</td>\n",
       "      <td>0.639909</td>\n",
       "      <td>...</td>\n",
       "      <td>0.635133</td>\n",
       "      <td>0.005516</td>\n",
       "      <td>14</td>\n",
       "      <td>0.635259</td>\n",
       "      <td>0.637629</td>\n",
       "      <td>0.634239</td>\n",
       "      <td>0.638529</td>\n",
       "      <td>0.633969</td>\n",
       "      <td>0.635925</td>\n",
       "      <td>0.001833</td>\n",
       "    </tr>\n",
       "  </tbody>\n",
       "</table>\n",
       "<p>20 rows × 22 columns</p>\n",
       "</div>"
      ],
      "text/plain": [
       "    mean_fit_time  std_fit_time  mean_score_time  std_score_time  \\\n",
       "0        3.719058      0.752108         0.012603        0.000800   \n",
       "1       19.779214      1.937030         0.014204        0.000400   \n",
       "2       35.610880      5.211080         0.017603        0.001496   \n",
       "3       11.832166      2.979837         0.016721        0.001670   \n",
       "4       46.319090      6.021890         0.021005        0.002531   \n",
       "5        3.799351      0.757430         0.014804        0.003311   \n",
       "6       16.981433      0.867914         0.014197        0.000742   \n",
       "7       36.639405      5.340278         0.020194        0.001595   \n",
       "8       11.120789      2.452841         0.015921        0.003062   \n",
       "9       45.744540      3.825447         0.020469        0.002679   \n",
       "10       2.682487      0.396407         0.012804        0.000678   \n",
       "11       2.582944      0.034063         0.013603        0.000800   \n",
       "12       4.145278      1.000791         0.018722        0.002490   \n",
       "13       4.412702      0.369476         0.016670        0.002995   \n",
       "14       5.441483      0.486888         0.019451        0.002778   \n",
       "15       2.140833      0.048439         0.012803        0.001166   \n",
       "16       2.514919      0.018047         0.014003        0.000895   \n",
       "17       2.614677      0.273488         0.019092        0.002074   \n",
       "18       3.036661      0.537624         0.015006        0.002528   \n",
       "19       4.247056      1.013412         0.018294        0.000400   \n",
       "\n",
       "   param_mlpclassifier__alpha param_mlpclassifier__hidden_layer_sizes  \\\n",
       "0                       0.001                                   (10,)   \n",
       "1                       0.001                                   (50,)   \n",
       "2                       0.001                                  (100,)   \n",
       "3                       0.001                                (10, 10)   \n",
       "4                       0.001                                (50, 50)   \n",
       "5                        0.01                                   (10,)   \n",
       "6                        0.01                                   (50,)   \n",
       "7                        0.01                                  (100,)   \n",
       "8                        0.01                                (10, 10)   \n",
       "9                        0.01                                (50, 50)   \n",
       "10                          1                                   (10,)   \n",
       "11                          1                                   (50,)   \n",
       "12                          1                                  (100,)   \n",
       "13                          1                                (10, 10)   \n",
       "14                          1                                (50, 50)   \n",
       "15                          5                                   (10,)   \n",
       "16                          5                                   (50,)   \n",
       "17                          5                                  (100,)   \n",
       "18                          5                                (10, 10)   \n",
       "19                          5                                (50, 50)   \n",
       "\n",
       "                                               params  split0_test_score  \\\n",
       "0   {'mlpclassifier__alpha': 0.001, 'mlpclassifier...           0.638349   \n",
       "1   {'mlpclassifier__alpha': 0.001, 'mlpclassifier...           0.616511   \n",
       "2   {'mlpclassifier__alpha': 0.001, 'mlpclassifier...           0.615671   \n",
       "3   {'mlpclassifier__alpha': 0.001, 'mlpclassifier...           0.637389   \n",
       "4   {'mlpclassifier__alpha': 0.001, 'mlpclassifier...           0.594912   \n",
       "5   {'mlpclassifier__alpha': 0.01, 'mlpclassifier_...           0.640269   \n",
       "6   {'mlpclassifier__alpha': 0.01, 'mlpclassifier_...           0.624670   \n",
       "7   {'mlpclassifier__alpha': 0.01, 'mlpclassifier_...           0.619270   \n",
       "8   {'mlpclassifier__alpha': 0.01, 'mlpclassifier_...           0.633909   \n",
       "9   {'mlpclassifier__alpha': 0.01, 'mlpclassifier_...           0.598032   \n",
       "10  {'mlpclassifier__alpha': 1, 'mlpclassifier__hi...           0.636669   \n",
       "11  {'mlpclassifier__alpha': 1, 'mlpclassifier__hi...           0.637629   \n",
       "12  {'mlpclassifier__alpha': 1, 'mlpclassifier__hi...           0.634389   \n",
       "13  {'mlpclassifier__alpha': 1, 'mlpclassifier__hi...           0.635949   \n",
       "14  {'mlpclassifier__alpha': 1, 'mlpclassifier__hi...           0.638109   \n",
       "15  {'mlpclassifier__alpha': 5, 'mlpclassifier__hi...           0.634509   \n",
       "16  {'mlpclassifier__alpha': 5, 'mlpclassifier__hi...           0.634989   \n",
       "17  {'mlpclassifier__alpha': 5, 'mlpclassifier__hi...           0.634509   \n",
       "18  {'mlpclassifier__alpha': 5, 'mlpclassifier__hi...           0.633789   \n",
       "19  {'mlpclassifier__alpha': 5, 'mlpclassifier__hi...           0.626830   \n",
       "\n",
       "    split1_test_score  split2_test_score  ...  mean_test_score  \\\n",
       "0            0.637509           0.639309  ...         0.638925   \n",
       "1            0.613871           0.619750  ...         0.617423   \n",
       "2            0.604512           0.609071  ...         0.610079   \n",
       "3            0.639189           0.636189  ...         0.636429   \n",
       "4            0.592513           0.597192  ...         0.593449   \n",
       "5            0.638589           0.640269  ...         0.639621   \n",
       "6            0.624310           0.621070  ...         0.622102   \n",
       "7            0.606431           0.609431  ...         0.612815   \n",
       "8            0.637269           0.642909  ...         0.638709   \n",
       "9            0.594432           0.596592  ...         0.597240   \n",
       "10           0.633309           0.647588  ...         0.640245   \n",
       "11           0.636189           0.645308  ...         0.641613   \n",
       "12           0.635469           0.645188  ...         0.639597   \n",
       "13           0.639069           0.647108  ...         0.641589   \n",
       "14           0.635349           0.645428  ...         0.640821   \n",
       "15           0.633189           0.643868  ...         0.638205   \n",
       "16           0.632589           0.643749  ...         0.638565   \n",
       "17           0.630790           0.643749  ...         0.637533   \n",
       "18           0.632469           0.644708  ...         0.638085   \n",
       "19           0.630190           0.639909  ...         0.635133   \n",
       "\n",
       "    std_test_score  rank_test_score  split0_train_score  split1_train_score  \\\n",
       "0         0.001651                7            0.650108            0.649268   \n",
       "1         0.002060               16            0.684935            0.683315   \n",
       "2         0.003643               18            0.699904            0.715293   \n",
       "3         0.001745               13            0.653288            0.655898   \n",
       "4         0.002491               20            0.737161            0.735301   \n",
       "5         0.001467                5            0.648188            0.647558   \n",
       "6         0.002320               15            0.678906            0.677736   \n",
       "7         0.004522               17            0.697684            0.707253   \n",
       "8         0.003063                8            0.652868            0.655328   \n",
       "9         0.001805               19            0.736861            0.730142   \n",
       "10        0.005009                4            0.643449            0.641439   \n",
       "11        0.004113                1            0.643539            0.643089   \n",
       "12        0.004335                6            0.642819            0.643239   \n",
       "13        0.003873                2            0.643509            0.643359   \n",
       "14        0.003746                3            0.644438            0.644498   \n",
       "15        0.004187               10            0.639009            0.639939   \n",
       "16        0.004446                9            0.639969            0.639369   \n",
       "17        0.004624               12            0.637899            0.637539   \n",
       "18        0.004920               11            0.638199            0.638979   \n",
       "19        0.005516               14            0.635259            0.637629   \n",
       "\n",
       "    split2_train_score  split3_train_score  split4_train_score  \\\n",
       "0             0.646928            0.649898            0.647978   \n",
       "1             0.680286            0.682415            0.682415   \n",
       "2             0.707823            0.712743            0.709443   \n",
       "3             0.650558            0.649778            0.654938   \n",
       "4             0.734431            0.741091            0.745650   \n",
       "5             0.646988            0.649178            0.648128   \n",
       "6             0.679086            0.678636            0.672636   \n",
       "7             0.702754            0.709473            0.705544   \n",
       "8             0.649238            0.650798            0.654248   \n",
       "9             0.736981            0.732091            0.730322   \n",
       "10            0.641229            0.642279            0.640449   \n",
       "11            0.640989            0.643239            0.641499   \n",
       "12            0.640299            0.642339            0.640179   \n",
       "13            0.641769            0.643419            0.641379   \n",
       "14            0.642339            0.642759            0.641829   \n",
       "15            0.636999            0.638859            0.636219   \n",
       "16            0.637689            0.637749            0.636579   \n",
       "17            0.635649            0.636819            0.636429   \n",
       "18            0.636609            0.637719            0.637239   \n",
       "19            0.634239            0.638529            0.633969   \n",
       "\n",
       "    mean_train_score  std_train_score  \n",
       "0           0.648836         0.001209  \n",
       "1           0.682673         0.001507  \n",
       "2           0.709041         0.005252  \n",
       "3           0.652892         0.002388  \n",
       "4           0.738727         0.004151  \n",
       "5           0.648008         0.000729  \n",
       "6           0.677400         0.002427  \n",
       "7           0.704542         0.004072  \n",
       "8           0.652496         0.002224  \n",
       "9           0.733279         0.003051  \n",
       "10          0.641769         0.001022  \n",
       "11          0.642471         0.001025  \n",
       "12          0.641775         0.001287  \n",
       "13          0.642687         0.000918  \n",
       "14          0.643173         0.001098  \n",
       "15          0.638205         0.001377  \n",
       "16          0.638271         0.001230  \n",
       "17          0.636867         0.000799  \n",
       "18          0.637749         0.000809  \n",
       "19          0.635925         0.001833  \n",
       "\n",
       "[20 rows x 22 columns]"
      ]
     },
     "execution_count": 81,
     "metadata": {},
     "output_type": "execute_result"
    }
   ],
   "source": [
    "grid3.fit(X_train_val, y_train_val)\n",
    "\n",
    "results = pd.DataFrame(grid3.cv_results_)\n",
    "results"
   ]
  },
  {
   "cell_type": "code",
   "execution_count": 82,
   "metadata": {},
   "outputs": [
    {
     "name": "stdout",
     "output_type": "stream",
     "text": [
      "Accuracy score is 0.642\n",
      "The best accracy is when  {'mlpclassifier__alpha': 1, 'mlpclassifier__hidden_layer_sizes': (50,)}\n"
     ]
    }
   ],
   "source": [
    "print('Accuracy score is {:.3f}'.format(grid3.best_score_))\n",
    "print('The best accracy is when ',grid3.best_params_ )"
   ]
  },
  {
   "cell_type": "code",
   "execution_count": 83,
   "metadata": {},
   "outputs": [
    {
     "data": {
      "text/plain": [
       "array([[1546,  791],\n",
       "       [ 920, 1373]], dtype=int64)"
      ]
     },
     "execution_count": 83,
     "metadata": {},
     "output_type": "execute_result"
    }
   ],
   "source": [
    "cf_mat = confusion_matrix(y_test, grid3.predict(X_test))\n",
    "cf_mat"
   ]
  },
  {
   "cell_type": "code",
   "execution_count": 84,
   "metadata": {},
   "outputs": [
    {
     "data": {
      "text/plain": [
       "2337"
      ]
     },
     "execution_count": 84,
     "metadata": {},
     "output_type": "execute_result"
    }
   ],
   "source": [
    "true_pos = cf_mat[0,0]\n",
    "true_neg = cf_mat[1,1]\n",
    "fal_pos = cf_mat[0,1]\n",
    "fal_neg = cf_mat[1,0]\n",
    "\n",
    "cost_mistakes = true_pos +fal_pos\n",
    "cost_mistakes"
   ]
  },
  {
   "cell_type": "code",
   "execution_count": 85,
   "metadata": {},
   "outputs": [
    {
     "name": "stdout",
     "output_type": "stream",
     "text": [
      "Model3 total cost of mistakes: 25020000\n"
     ]
    }
   ],
   "source": [
    "model3_mistakes = (10000 * fal_neg) + (20000 * fal_pos)\n",
    "print('Model3 total cost of mistakes:',model3_mistakes)"
   ]
  },
  {
   "cell_type": "markdown",
   "metadata": {},
   "source": [
    "Model3 has the lowest cost of mistakes among the three."
   ]
  }
 ],
 "metadata": {
  "kernelspec": {
   "display_name": "base",
   "language": "python",
   "name": "python3"
  },
  "language_info": {
   "codemirror_mode": {
    "name": "ipython",
    "version": 3
   },
   "file_extension": ".py",
   "mimetype": "text/x-python",
   "name": "python",
   "nbconvert_exporter": "python",
   "pygments_lexer": "ipython3",
   "version": "3.11.5"
  }
 },
 "nbformat": 4,
 "nbformat_minor": 2
}
